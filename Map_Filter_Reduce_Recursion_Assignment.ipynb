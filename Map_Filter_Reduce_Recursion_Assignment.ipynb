{
 "cells": [
  {
   "cell_type": "markdown",
   "id": "86dd1455-ed0a-4c7b-b6a3-88f72e70dd6e",
   "metadata": {},
   "source": [
    "For Loop Assignments"
   ]
  },
  {
   "cell_type": "code",
   "execution_count": 1,
   "id": "e9b2419b-5438-4248-9f16-b4e943a05f41",
   "metadata": {},
   "outputs": [
    {
     "name": "stdout",
     "output_type": "stream",
     "text": [
      "1 2 3 4 5 6 7 8 9 10 "
     ]
    }
   ],
   "source": [
    "#1.Write a Python program to print numbers from 1 to 10 using a for loop.\n",
    "\n",
    "for i in range(1,11):\n",
    "    print(i,end=\" \")"
   ]
  },
  {
   "cell_type": "code",
   "execution_count": 2,
   "id": "28eeccae-3f22-4d32-8c4d-582b68fdcf22",
   "metadata": {},
   "outputs": [],
   "source": [
    "#2.Explain the difference between a for loop and a while loop in Python.\n",
    "'''\n",
    "while loop always try to check a condition first for not.\n",
    "'''"
   ]
  },
  {
   "cell_type": "code",
   "execution_count": 4,
   "id": "b82e1486-ec48-4b87-80ec-0e0ed54f3b1a",
   "metadata": {},
   "outputs": [
    {
     "name": "stdout",
     "output_type": "stream",
     "text": [
      "sum is: 5050\n"
     ]
    }
   ],
   "source": [
    "#3.Write a Python program to calculate the sum of all numbers from 1 to 100 using a for loop.\n",
    "c=0\n",
    "for i in range(1,101):\n",
    "    c=c+i\n",
    "print(\"sum is:\",c)"
   ]
  },
  {
   "cell_type": "code",
   "execution_count": 6,
   "id": "1f0cbfa7-c20b-4928-9d41-3542a231f71e",
   "metadata": {},
   "outputs": [
    {
     "name": "stdout",
     "output_type": "stream",
     "text": [
      "1 2 3 4 5 6 7 8 9 10 11 12 13 14 15 "
     ]
    }
   ],
   "source": [
    "#4.How do you iterate through a list using a for loop in Python?\n",
    "l=[1,2,3,4,5,6,7,8,9,10,11,12,13,14,15]\n",
    "for i in l:\n",
    "    print(i,end=\" \")"
   ]
  },
  {
   "cell_type": "code",
   "execution_count": 23,
   "id": "de0c7386-23bb-4be7-b829-d23e01580c46",
   "metadata": {},
   "outputs": [
    {
     "name": "stdout",
     "output_type": "stream",
     "text": [
      "product is: 120\n"
     ]
    }
   ],
   "source": [
    "#5.Write a Python program to find the product of all elements in a list using a for loop\n",
    "l=[1,2,3,4,5]\n",
    "p=1\n",
    "for i in l:\n",
    "    p=i*p\n",
    "\n",
    "print(\"product is:\",p)"
   ]
  },
  {
   "cell_type": "code",
   "execution_count": 24,
   "id": "c494e486-e6c5-42c3-be7a-72e5f72a7b12",
   "metadata": {},
   "outputs": [
    {
     "data": {
      "text/plain": [
       "[2, 4, 6, 8, 10, 12, 14, 16, 18, 20]"
      ]
     },
     "execution_count": 24,
     "metadata": {},
     "output_type": "execute_result"
    }
   ],
   "source": [
    "#6.Create a Python program that prints all even numbers from 1 to 20 using a for loop.\n",
    "l1=[]\n",
    "for i in range(1,21):\n",
    "    if i%2==0:\n",
    "        l1.append(i)\n",
    "        \n",
    "l1\n",
    "        "
   ]
  },
  {
   "cell_type": "code",
   "execution_count": 26,
   "id": "30fb58a2-1e92-4910-817e-71e61137c4b6",
   "metadata": {},
   "outputs": [
    {
     "name": "stdin",
     "output_type": "stream",
     "text": [
      "Enter no: 5\n"
     ]
    },
    {
     "name": "stdout",
     "output_type": "stream",
     "text": [
      "Factorial is: 120\n"
     ]
    }
   ],
   "source": [
    "#7.Write a Python program that calculates the factorial of a number using a for loop.\n",
    "n=int(input(\"Enter no:\"))\n",
    "fact=1\n",
    "for i in range(1,n+1):\n",
    "    fact=fact*i\n",
    "\n",
    "print(\"Factorial is:\",fact)"
   ]
  },
  {
   "cell_type": "code",
   "execution_count": 28,
   "id": "be272ca5-a55c-4375-81a1-b005335e1200",
   "metadata": {},
   "outputs": [
    {
     "name": "stdout",
     "output_type": "stream",
     "text": [
      "p w s k i l l s "
     ]
    }
   ],
   "source": [
    "#8.How can you iterate through the characters of a string using a for loop in Python?\n",
    "s=\"pwskills\"\n",
    "\n",
    "for i in s:\n",
    "    print(i,end=\" \")"
   ]
  },
  {
   "cell_type": "code",
   "execution_count": 32,
   "id": "94f1e0dd-aa37-49c9-8b9c-9bd44ae7cc07",
   "metadata": {},
   "outputs": [
    {
     "name": "stdin",
     "output_type": "stream",
     "text": [
      "Enter no of  elements in the list: 5\n",
      "enter elements: 12\n",
      "enter elements: 4\n",
      "enter elements: 55\n",
      "enter elements: 2\n",
      "enter elements: 78\n"
     ]
    },
    {
     "name": "stdout",
     "output_type": "stream",
     "text": [
      "Max element is: 78\n"
     ]
    }
   ],
   "source": [
    "#9.Write a Python program to find the largest number in a list using a for loop.\n",
    "l=[]\n",
    "n=int(input(\"Enter no of  elements in the list:\"))\n",
    "\n",
    "for i in range(1,n+1):\n",
    "    ele=int(input(\"enter elements:\"))  \n",
    "    l.append(ele)\n",
    "       \n",
    "print(\"Max element is:\",max(l))"
   ]
  },
  {
   "cell_type": "code",
   "execution_count": 37,
   "id": "5d1a7867-32af-4626-8f2a-e01ab87a8217",
   "metadata": {},
   "outputs": [
    {
     "name": "stdin",
     "output_type": "stream",
     "text": [
      "Enter no of terms: 5\n"
     ]
    },
    {
     "name": "stdout",
     "output_type": "stream",
     "text": [
      "0\n",
      "1\n",
      "1\n",
      "2\n",
      "3\n",
      "5\n",
      "8\n"
     ]
    }
   ],
   "source": [
    "#10. Create a Python program that prints the Fibonacci sequence up to a specified limit using a for loop.\n",
    "n=int(input(\"Enter no of terms:\"))\n",
    "a,b=0,1\n",
    "print(a)\n",
    "print(b)\n",
    "for i in range(2,n+2):\n",
    "    c=a+b\n",
    "    a=b\n",
    "    b=c\n",
    "    print(c)"
   ]
  },
  {
   "cell_type": "code",
   "execution_count": 46,
   "id": "9248c35e-1b59-4b53-9eaf-84d8ab664d82",
   "metadata": {},
   "outputs": [
    {
     "name": "stdin",
     "output_type": "stream",
     "text": [
      "Enter string: bhalerao\n"
     ]
    },
    {
     "name": "stdout",
     "output_type": "stream",
     "text": [
      "no of vowels in string is: 4\n"
     ]
    }
   ],
   "source": [
    "#11.Write a Python program to count the number of vowels in a given string using a for loop.\n",
    "vowel_list=['a','e','i','o','u','A','E','I','O','U']\n",
    "c=0\n",
    "s=(input(\"Enter string:\"))\n",
    "for i in s:\n",
    "    if i in vowel_list:\n",
    "        c+=1\n",
    "        \n",
    "print(\"no of vowels in string is:\",c)"
   ]
  },
  {
   "cell_type": "code",
   "execution_count": 48,
   "id": "82c67035-2ffc-49cc-8d78-bd2bb0ccf5ef",
   "metadata": {},
   "outputs": [
    {
     "name": "stdin",
     "output_type": "stream",
     "text": [
      "Enter number: 23\n"
     ]
    },
    {
     "name": "stdout",
     "output_type": "stream",
     "text": [
      "23 * 1 = 23\n",
      "23 * 2 = 46\n",
      "23 * 3 = 69\n",
      "23 * 4 = 92\n",
      "23 * 5 = 115\n",
      "23 * 6 = 138\n",
      "23 * 7 = 161\n",
      "23 * 8 = 184\n",
      "23 * 9 = 207\n",
      "23 * 10 = 230\n"
     ]
    }
   ],
   "source": [
    "#12.Create a Python program that generates a multiplication table for a given number using a for loop.\n",
    "n=int(input(\"Enter number:\"))\n",
    "for i in range(1,11):\n",
    "    print(n,\"*\",i,\"=\",n*i)"
   ]
  },
  {
   "cell_type": "code",
   "execution_count": 4,
   "id": "81496a9f-cbb4-4f37-b85a-5fa3e7c145d3",
   "metadata": {},
   "outputs": [
    {
     "name": "stdin",
     "output_type": "stream",
     "text": [
      "Enter no of elements in the list: 2\n",
      "Enter elements: 12\n",
      "Enter elements: 3\n"
     ]
    },
    {
     "data": {
      "text/plain": [
       "[3, 12]"
      ]
     },
     "execution_count": 4,
     "metadata": {},
     "output_type": "execute_result"
    }
   ],
   "source": [
    "#13.Write a Python program to reverse a list using a for loop.\n",
    "n=int(input(\"Enter no of elements in the list:\"))\n",
    "l=[]\n",
    "for i in range(1,n+1):\n",
    "    ele=int(input(\"Enter elements:\"))\n",
    "    l.append(ele)\n",
    "    l1=l[::-1]\n",
    "    \n",
    "l1"
   ]
  },
  {
   "cell_type": "code",
   "execution_count": 15,
   "id": "081210b9-4c5e-4d8b-b32e-5f90663dfbfa",
   "metadata": {},
   "outputs": [
    {
     "name": "stdout",
     "output_type": "stream",
     "text": [
      "Match is found: common elements are-> [2, 3]\n"
     ]
    }
   ],
   "source": [
    "#14.Write a Python program to find the common elements between two lists using a for loop.\n",
    "\n",
    "l1=[1,2,3]\n",
    "l2=[2,3,5,6]\n",
    "common=[]\n",
    "f=0\n",
    "for i in l1:\n",
    "    if i in l2:\n",
    "        if i in l1 and i in l2:\n",
    "            f=1\n",
    "            common.append(i)\n",
    "            \n",
    "if f==1:\n",
    "    print(\"Match is found: common elements are->\",common)\n",
    "else:\n",
    "    print(\"Match is not found\")"
   ]
  },
  {
   "cell_type": "code",
   "execution_count": 19,
   "id": "ffdb2856-5ad0-43c5-8f6a-45f0eea17fd5",
   "metadata": {},
   "outputs": [
    {
     "name": "stdout",
     "output_type": "stream",
     "text": [
      "('rollno', '1')\n",
      "('name', ['sudh', 'krish', 'vishwa', 'Ajay', 'sunny'])\n",
      "('course', ['Data science', 'DSA', 'python', 'Data Analytics'])\n",
      "rollno\n",
      "name\n",
      "course\n",
      "1\n",
      "['sudh', 'krish', 'vishwa', 'Ajay', 'sunny']\n",
      "['Data science', 'DSA', 'python', 'Data Analytics']\n"
     ]
    }
   ],
   "source": [
    "#15.Explain how to use a for loop to iterate through the keys and values of a dictionary in Python.\n",
    "dict={'rollno':'1','name':['sudh','krish','vishwa','Ajay','sunny'],'course':['Data science','DSA','python','Data Analytics']}\n",
    "for i in dict.items():\n",
    "    print(i)\n",
    "for i in dict.keys():\n",
    "    print(i)\n",
    "for i in dict.values():\n",
    "    print(i)\n",
    "    "
   ]
  },
  {
   "cell_type": "code",
   "execution_count": 25,
   "id": "c2239202-91d7-4051-be49-f792a0368b38",
   "metadata": {},
   "outputs": [
    {
     "name": "stdin",
     "output_type": "stream",
     "text": [
      "Enter first no: 12\n",
      "Enter second no: 4\n"
     ]
    },
    {
     "name": "stdout",
     "output_type": "stream",
     "text": [
      "GCD of two numbers: 4\n"
     ]
    }
   ],
   "source": [
    "#16.Write a Python program to find the GCD (Greatest Common Divisor) of two numbers using a for\n",
    "#loop.\n",
    "\n",
    "def GCD(a,b):\n",
    "    if a>b:\n",
    "        temp=b\n",
    "    else:\n",
    "        temp=a\n",
    "    for i in range(1,temp+1):\n",
    "        if a%i==0 and b%i==0:\n",
    "            gcd=i\n",
    "    return gcd\n",
    "a=int(input(\"Enter first no:\"))        \n",
    "b=int(input(\"Enter second no:\")) \n",
    "result=GCD(a,b)\n",
    "print(\"GCD of two numbers:\",result)"
   ]
  },
  {
   "cell_type": "code",
   "execution_count": 8,
   "id": "dcdc29c2-d929-4214-985f-09a1f0b3384d",
   "metadata": {},
   "outputs": [
    {
     "name": "stdin",
     "output_type": "stream",
     "text": [
      "Enter the string: nitin\n"
     ]
    },
    {
     "name": "stdout",
     "output_type": "stream",
     "text": [
      "string is palindrome\n"
     ]
    }
   ],
   "source": [
    "#17.Create a Python program that checks if a string is a palindrome using a for loop.\n",
    "s=input(\"Enter the string:\")\n",
    "s1=s\n",
    "f=0\n",
    "for i in s1:\n",
    "    if s==s1[::-1]:\n",
    "        f=1\n",
    "        break\n",
    "        \n",
    "if f==1: \n",
    "    print(\"string is palindrome\")\n",
    "else:\n",
    "    print(\"string is not palindrome\")"
   ]
  },
  {
   "cell_type": "code",
   "execution_count": 14,
   "id": "dff5ffd4-4af6-4adf-b295-1f5a1b0bf626",
   "metadata": {},
   "outputs": [
    {
     "name": "stdout",
     "output_type": "stream",
     "text": [
      "{1, 2, 3, 4, 5, 6, 67, 7, 8, 9}\n"
     ]
    }
   ],
   "source": [
    "#18.Write a Python program to remove duplicates from a list using a for loop.\n",
    "l=[1,2,2,3,4,4,5,6,67,7,8,8,9]\n",
    "s=set()\n",
    "for i in l:\n",
    "    s.add(i)\n",
    "    \n",
    "    \n",
    "print(s)"
   ]
  },
  {
   "cell_type": "code",
   "execution_count": 22,
   "id": "46820137-f578-4e05-b04a-6335001e4f45",
   "metadata": {},
   "outputs": [
    {
     "name": "stdin",
     "output_type": "stream",
     "text": [
      "Enter string: this is my test string\n"
     ]
    },
    {
     "name": "stdout",
     "output_type": "stream",
     "text": [
      "original string is: this is my test string\n",
      "No. of words in a string 5\n"
     ]
    }
   ],
   "source": [
    "#19.Create a Python program that counts the number of words in a sentence using a for loop.\n",
    "s=input(\"Enter string:\")\n",
    "print(\"original string is:\",s)\n",
    "c=len(s.split())\n",
    "        \n",
    "\n",
    "print(\"No. of words in a string\",c)"
   ]
  },
  {
   "cell_type": "code",
   "execution_count": 23,
   "id": "72cec08a-a78d-44b9-92d3-c8a8b6e8173c",
   "metadata": {},
   "outputs": [
    {
     "name": "stdout",
     "output_type": "stream",
     "text": [
      "sum is: 625\n"
     ]
    }
   ],
   "source": [
    "#20.Write a Python program to find the sum of all odd numbers from 1 to 50 using a for loop\n",
    "c=0\n",
    "for i in range(1,51):\n",
    "    if i%2!=0:\n",
    "        c+=i\n",
    "print(\"sum is:\",c)"
   ]
  },
  {
   "cell_type": "code",
   "execution_count": 28,
   "id": "692769df-12e3-4267-9a03-df88f68cad46",
   "metadata": {},
   "outputs": [
    {
     "name": "stdin",
     "output_type": "stream",
     "text": [
      "Enter year: 2004\n"
     ]
    },
    {
     "name": "stdout",
     "output_type": "stream",
     "text": [
      "Leap year\n"
     ]
    }
   ],
   "source": [
    "#21. Write a Python program that checks if a given year is a leap year using a for loop.\n",
    "\n",
    "y=int(input(\"Enter year:\"))\n",
    "if y%4==0:\n",
    "    print(\"Leap year\")\n",
    "else:\n",
    "    print(\"Not a Leap year\")\n"
   ]
  },
  {
   "cell_type": "code",
   "execution_count": 31,
   "id": "4f9881a5-5554-4418-98e5-eba30d34afd7",
   "metadata": {},
   "outputs": [
    {
     "name": "stdin",
     "output_type": "stream",
     "text": [
      "Enter no: 4\n"
     ]
    },
    {
     "name": "stdout",
     "output_type": "stream",
     "text": [
      "2.0\n"
     ]
    }
   ],
   "source": [
    "#22. Create a Python program that calculates the square root of a number using a for loop.\n",
    "import math\n",
    "n=int(input(\"Enter no:\"))\n",
    "print(math.sqrt(n))"
   ]
  },
  {
   "cell_type": "code",
   "execution_count": 34,
   "id": "82e466e4-b745-4923-a8ad-bf869e938fe1",
   "metadata": {},
   "outputs": [
    {
     "name": "stdin",
     "output_type": "stream",
     "text": [
      "Enter no: 25\n",
      "Enter no: 50\n"
     ]
    },
    {
     "name": "stdout",
     "output_type": "stream",
     "text": [
      "LCM of 25 and 50 is 50\n"
     ]
    }
   ],
   "source": [
    "#23. Write a Python program to find the LCM (Least Common Multiple) of two numbers using a for\n",
    "#loop.\n",
    "num1=int(input(\"Enter no:\"))\n",
    "num2=int(input(\"Enter no:\"))\n",
    "\n",
    "for i in range(max(num1,num2),(num1*num2)+1):\n",
    "    if i%num1==i%num2==0:\n",
    "        lcm=i\n",
    "        break\n",
    "        \n",
    "print(\"LCM of\",num1,\"and\",num2,\"is\",lcm)"
   ]
  },
  {
   "cell_type": "markdown",
   "id": "50c4eddc-4114-491f-b146-f9fac9578476",
   "metadata": {},
   "source": [
    "if else Assignments"
   ]
  },
  {
   "cell_type": "code",
   "execution_count": 3,
   "id": "89bdb3ba-9cb7-4f38-8955-1b28bae4069b",
   "metadata": {},
   "outputs": [
    {
     "name": "stdin",
     "output_type": "stream",
     "text": [
      "Enter no: 0\n"
     ]
    },
    {
     "name": "stdout",
     "output_type": "stream",
     "text": [
      "no is zero\n"
     ]
    }
   ],
   "source": [
    "#1.Write a Python program to check if a number is positive, negative, or zero using an if-else statement\n",
    "n=int(input(\"Enter no:\"))\n",
    "if n>0:\n",
    "    print(\"No is positive\")\n",
    "elif n<0:\n",
    "    print(\"No is Negative\")\n",
    "else:\n",
    "    print(\"no is zero\")"
   ]
  },
  {
   "cell_type": "code",
   "execution_count": 5,
   "id": "82c1f4ea-8f32-4560-9055-c84f967d6fb8",
   "metadata": {},
   "outputs": [
    {
     "name": "stdin",
     "output_type": "stream",
     "text": [
      "Enter no: 6\n"
     ]
    },
    {
     "name": "stdout",
     "output_type": "stream",
     "text": [
      "Even no.\n"
     ]
    }
   ],
   "source": [
    "#2. Create a Python program that checks if a given number is even or odd using an if-else statement.\n",
    "n=int(input(\"Enter no:\"))\n",
    "if n%2==0:\n",
    "    print(\"Even no.\")\n",
    "else:\n",
    "    print(\"no is odd\")"
   ]
  },
  {
   "cell_type": "code",
   "execution_count": 18,
   "id": "0dbb2b98-be9a-41ba-99c5-198b22c8dfa5",
   "metadata": {},
   "outputs": [
    {
     "name": "stdout",
     "output_type": "stream",
     "text": [
      "a is greater than but less than b\n"
     ]
    }
   ],
   "source": [
    "#3.How can you use nested if-else statements in Python, and provide an example?\n",
    "a=10\n",
    "b=40\n",
    "if a>=10:\n",
    "    if b>50:\n",
    "        print(\"a is greater than or equal to 10 and b is greater than 50\")\n",
    "    else:\n",
    "        print(\"a is greater than but less than b\")\n",
    "else:\n",
    "    print(\"a is lesser than 10\")\n",
    "    \n",
    "    "
   ]
  },
  {
   "cell_type": "code",
   "execution_count": 22,
   "id": "69946315-089e-4578-88b4-b8438566c0af",
   "metadata": {},
   "outputs": [
    {
     "name": "stdin",
     "output_type": "stream",
     "text": [
      "Enter no: 12\n",
      "Enter no: 34\n",
      "Enter no: 45\n"
     ]
    },
    {
     "name": "stdout",
     "output_type": "stream",
     "text": [
      "c is greater\n"
     ]
    }
   ],
   "source": [
    "#4. Write a Python program to determine the largest of three numbers using if-else.\n",
    "\n",
    "a=int(input(\"Enter no:\"))\n",
    "b=int(input(\"Enter no:\"))\n",
    "c=int(input(\"Enter no:\"))\n",
    "\n",
    "if a>b:\n",
    "    if a>c:\n",
    "        print(\"a is greater\")\n",
    "if b>a:\n",
    "    if b>c:\n",
    "        print(\"b is greater\")\n",
    "if c>a:\n",
    "    if c>b:\n",
    "        print(\"c is greater\")"
   ]
  },
  {
   "cell_type": "code",
   "execution_count": 27,
   "id": "06b03682-dbde-42bc-a205-07549e596745",
   "metadata": {},
   "outputs": [
    {
     "name": "stdin",
     "output_type": "stream",
     "text": [
      "Enter no: -5\n"
     ]
    },
    {
     "name": "stdout",
     "output_type": "stream",
     "text": [
      "absolute value is: 5\n"
     ]
    }
   ],
   "source": [
    "#5. Write a Python program that calculates the absolute value of a number using if-else.\n",
    "a=int(input(\"Enter no:\"))\n",
    "if a>0:\n",
    "    ab=a\n",
    "else:\n",
    "    ab=-a\n",
    "print(\"absolute value is:\",ab)"
   ]
  },
  {
   "cell_type": "code",
   "execution_count": 29,
   "id": "f179d5a7-8b04-4161-b518-084247be096f",
   "metadata": {},
   "outputs": [
    {
     "name": "stdin",
     "output_type": "stream",
     "text": [
      "Enter a character: e\n"
     ]
    },
    {
     "name": "stdout",
     "output_type": "stream",
     "text": [
      "character is vowel\n"
     ]
    }
   ],
   "source": [
    "#6. Create a Python program that checks if a given character is a vowel or consonant using if-else.\n",
    "char=input(\"Enter a character:\")\n",
    "if char=='a' or char=='e' or char=='i' or char=='o' or char=='u' or char=='A' or char=='E' or char=='I' or char=='O' or char=='U':\n",
    "    print(\"character is vowel\")\n",
    "else:\n",
    "    print(\"character is consonant\")"
   ]
  },
  {
   "cell_type": "code",
   "execution_count": 31,
   "id": "4cf01f5f-af0e-4438-a041-6c4b63b1e14b",
   "metadata": {},
   "outputs": [
    {
     "name": "stdin",
     "output_type": "stream",
     "text": [
      "Enter the age: 12\n"
     ]
    },
    {
     "name": "stdout",
     "output_type": "stream",
     "text": [
      "You are not eligible to vote\n"
     ]
    }
   ],
   "source": [
    "#7.Write a Python program to determine if a user is eligible to vote based on their age using if-else.\n",
    "age=int(input(\"Enter the age:\"))\n",
    "if age>=18:\n",
    "    print(\"You are eligiblke to vote \")\n",
    "else:\n",
    "    print(\"You are not eligible to vote\")\n",
    "    "
   ]
  },
  {
   "cell_type": "code",
   "execution_count": 2,
   "id": "d446ce37-580d-458b-b624-09f02302b3e8",
   "metadata": {},
   "outputs": [
    {
     "name": "stdin",
     "output_type": "stream",
     "text": [
      "Enter the price 500\n"
     ]
    },
    {
     "name": "stdout",
     "output_type": "stream",
     "text": [
      "Discounted Amount is: 475.0\n"
     ]
    }
   ],
   "source": [
    "#8. Create a Python program that calculates the discount amount based on the purchase amount using if-else.\n",
    "price=float(input(\"Enter the price\"))\n",
    "\n",
    "if price > 1000:\n",
    "    discounted_amount = price - price * 0.10\n",
    "elif price <600:\n",
    "    discounted_amount = price - price * 0.05\n",
    "    \n",
    "    \n",
    "print(\"Discounted Amount is:\",discounted_amount)"
   ]
  },
  {
   "cell_type": "code",
   "execution_count": 5,
   "id": "80ae042a-bd0c-4a09-9dbc-83d5b0c7730f",
   "metadata": {},
   "outputs": [
    {
     "name": "stdin",
     "output_type": "stream",
     "text": [
      "Enter the number: 1100\n"
     ]
    },
    {
     "name": "stdout",
     "output_type": "stream",
     "text": [
      "No is not within the range\n"
     ]
    }
   ],
   "source": [
    "#9.Write a Python program to check if a number is within a specified range using if-else.\n",
    "n=float(input(\"Enter the number:\"))\n",
    "if 0<=n<=1001:\n",
    "    print(\"No is within the range\")\n",
    "else:\n",
    "     print(\"No is not within the range\")"
   ]
  },
  {
   "cell_type": "code",
   "execution_count": 11,
   "id": "0d485b89-ed8e-484f-8a3f-0d2d03a327b5",
   "metadata": {},
   "outputs": [
    {
     "name": "stdin",
     "output_type": "stream",
     "text": [
      "Enter the % of marks: 3\n"
     ]
    },
    {
     "name": "stdout",
     "output_type": "stream",
     "text": [
      "You Got Grade D\n"
     ]
    }
   ],
   "source": [
    "# 10. Create a Python program that determines the grade of a student based on their score using\n",
    "#if-else\n",
    "marks=float(input(\"Enter the % of marks:\"))\n",
    "\n",
    "if marks>75 and marks<=100:\n",
    "    print(\"You Got Grade A\")\n",
    "elif 60<=marks<75:\n",
    "    print(\"You Got Grade B\")\n",
    "elif 35<marks<60:\n",
    "    print(\"You Got Grade C\")\n",
    "elif marks <35:\n",
    "    print(\"You Got Grade D\")\n",
    "else:\n",
    "     print(\"please enter valid marks\")"
   ]
  },
  {
   "cell_type": "code",
   "execution_count": 13,
   "id": "74efcc8f-19ee-4929-9ec7-628a149e53c0",
   "metadata": {},
   "outputs": [
    {
     "name": "stdin",
     "output_type": "stream",
     "text": [
      "Enter the string: \n"
     ]
    },
    {
     "name": "stdout",
     "output_type": "stream",
     "text": [
      "string is empty\n"
     ]
    }
   ],
   "source": [
    "#11.Write a Python program to check if a string is empty or not using if-else.\n",
    "s=input(\"Enter the string:\")\n",
    "if len(s)>0:\n",
    "    print(\"string is not empty\")\n",
    "else:\n",
    "    print(\"string is empty\")"
   ]
  },
  {
   "cell_type": "code",
   "execution_count": 16,
   "id": "bef08cb5-ed4b-4756-a0f3-3b4ea4e09f8c",
   "metadata": {},
   "outputs": [
    {
     "name": "stdout",
     "output_type": "stream",
     "text": [
      "Input lengths of the triangle sides: \n"
     ]
    },
    {
     "name": "stdin",
     "output_type": "stream",
     "text": [
      "x:  45\n",
      "y:  45\n",
      "z:  90\n"
     ]
    },
    {
     "name": "stdout",
     "output_type": "stream",
     "text": [
      "Isosceles triangle\n"
     ]
    }
   ],
   "source": [
    "#12.Create a Python program that identifies the type of a triangle.\n",
    "\n",
    "print(\"Input lengths of the triangle sides: \")\n",
    "\n",
    "# Request input from the user for the length of side 'x' and convert it to an integer\n",
    "x = int(input(\"x: \"))\n",
    "\n",
    "# Request input from the user for the length of side 'y' and convert it to an integer\n",
    "y = int(input(\"y: \"))\n",
    "\n",
    "# Request input from the user for the length of side 'z' and convert it to an integer\n",
    "z = int(input(\"z: \"))\n",
    "\n",
    "# Check conditions to determine the type of triangle based on the lengths of its sides\n",
    "\n",
    "# If all sides are equal, display that it's an equilateral triangle\n",
    "if x == y == z:\n",
    "    print(\"Equilateral triangle\")\n",
    "# If at least two sides are equal, display that it's an isosceles triangle\n",
    "elif x == y or y == z or z == x:\n",
    "    print(\"Isosceles triangle\")\n",
    "# If all sides have different lengths, display that it's a scalene triangle\n",
    "else:\n",
    "    print(\"Scalene triangle\")"
   ]
  },
  {
   "cell_type": "code",
   "execution_count": 2,
   "id": "43ef983a-0d7b-4915-8d8f-806b3505b95f",
   "metadata": {},
   "outputs": [
    {
     "name": "stdin",
     "output_type": "stream",
     "text": [
      "Enter No. 5\n"
     ]
    },
    {
     "name": "stdout",
     "output_type": "stream",
     "text": [
      "Friday\n"
     ]
    }
   ],
   "source": [
    "#13. Write a Python program to determine the day of the week based on a user-provided number\n",
    "#using if-else.\n",
    "\n",
    "day=int(input(\"Enter No.\"))\n",
    "if day==1:\n",
    "    print(\"Monday\")\n",
    "elif day==2:\n",
    "    print(\"Tuesday\")\n",
    "elif day==3:\n",
    "    print(\"Wednesday\")\n",
    "elif day==4:\n",
    "    print(\"Thursday\")\n",
    "elif day==5:\n",
    "    print(\"Friday\")\n",
    "elif day==6:\n",
    "    print(\"Saturday\")\n",
    "else: \n",
    "    print(\"Sunday\")\n"
   ]
  },
  {
   "cell_type": "code",
   "execution_count": 3,
   "id": "7efd15fd-67db-43cc-a4dd-17a57021948c",
   "metadata": {},
   "outputs": [
    {
     "name": "stdin",
     "output_type": "stream",
     "text": [
      "Enter the year: 2004\n"
     ]
    },
    {
     "name": "stdout",
     "output_type": "stream",
     "text": [
      "2004 is Leap year\n"
     ]
    }
   ],
   "source": [
    "#14. Create a Python program that checks if a given year is a leap year using both if-else and a\n",
    "#function.\n",
    "\n",
    "y=int(input(\"Enter the year:\"))\n",
    "if y%4==0:\n",
    "    print(y,\"is Leap year\")\n",
    "else:\n",
    "    print(y,\"is not a Leap year\")"
   ]
  },
  {
   "cell_type": "code",
   "execution_count": 4,
   "id": "3517a94a-7594-430e-95e6-29652430e296",
   "metadata": {},
   "outputs": [
    {
     "name": "stdout",
     "output_type": "stream",
     "text": [
      "The value of a / b is : \n"
     ]
    },
    {
     "ename": "AssertionError",
     "evalue": "",
     "output_type": "error",
     "traceback": [
      "\u001b[0;31m---------------------------------------------------------------------------\u001b[0m",
      "\u001b[0;31mAssertionError\u001b[0m                            Traceback (most recent call last)",
      "Cell \u001b[0;32mIn[4], line 9\u001b[0m\n\u001b[1;32m      7\u001b[0m \u001b[38;5;66;03m# using assert to check for 0\u001b[39;00m\n\u001b[1;32m      8\u001b[0m \u001b[38;5;28mprint\u001b[39m(\u001b[38;5;124m\"\u001b[39m\u001b[38;5;124mThe value of a / b is : \u001b[39m\u001b[38;5;124m\"\u001b[39m)\n\u001b[0;32m----> 9\u001b[0m \u001b[38;5;28;01massert\u001b[39;00m b \u001b[38;5;241m!=\u001b[39m \u001b[38;5;241m0\u001b[39m\n\u001b[1;32m     10\u001b[0m \u001b[38;5;28mprint\u001b[39m(a \u001b[38;5;241m/\u001b[39m b)\n",
      "\u001b[0;31mAssertionError\u001b[0m: "
     ]
    }
   ],
   "source": [
    "#15. How do you use the \"assert\" statement in Python to add debugging checks within if-else blocks?\n",
    "\n",
    "# initializing number\n",
    "a = 4\n",
    "b = 0\n",
    "\n",
    "# using assert to check for 0\n",
    "print(\"The value of a / b is : \")\n",
    "assert b != 0\n",
    "print(a / b)\n"
   ]
  },
  {
   "cell_type": "code",
   "execution_count": 8,
   "id": "c911f6c7-540b-4c47-8af7-1eeb1f1953d8",
   "metadata": {},
   "outputs": [
    {
     "name": "stdin",
     "output_type": "stream",
     "text": [
      "Enter the age: 78\n"
     ]
    },
    {
     "name": "stdout",
     "output_type": "stream",
     "text": [
      "You qualify for a discount!\n"
     ]
    }
   ],
   "source": [
    "#16. Create a Python program that determines the eligibility of a person for a senior citizen discount\n",
    "#based on age using if-else.\n",
    "age=int(input(\"Enter the age:\"))\n",
    "if age >= 70:\n",
    "    print(\"You qualify for a discount!\") \n",
    "else:\n",
    "    print(\"You do not qualify for a discount!\")"
   ]
  },
  {
   "cell_type": "code",
   "execution_count": 9,
   "id": "7a42dcb3-327b-4c96-b099-a8d023ffb1d6",
   "metadata": {},
   "outputs": [
    {
     "name": "stdin",
     "output_type": "stream",
     "text": [
      "Enter the string: ISHAN\n"
     ]
    },
    {
     "name": "stdout",
     "output_type": "stream",
     "text": [
      "string is in upper case \n"
     ]
    }
   ],
   "source": [
    "#17. Write a Python program to categorize a given character as uppercase, lowercase, or neither\n",
    "#using if-else\n",
    "\n",
    "s=input(\"Enter the string:\")\n",
    "if s.isupper():\n",
    "    print(\"string is in upper case \")\n",
    "elif s.islower():\n",
    "    print(\"string is in lower case \")\n",
    "else:\n",
    "    print(\"string is not valid\")"
   ]
  },
  {
   "cell_type": "code",
   "execution_count": 10,
   "id": "e4f9cd2e-d009-4912-a914-ffac7f82877b",
   "metadata": {},
   "outputs": [
    {
     "name": "stdout",
     "output_type": "stream",
     "text": [
      "real and different roots\n",
      "2.0\n",
      "-12.0\n"
     ]
    }
   ],
   "source": [
    "#18. Write a Python program to determine the roots of a quadratic equation using if-else\n",
    "import math \n",
    "\n",
    "# function for finding roots\n",
    "def equationroots( a, b, c): \n",
    "\n",
    "\t# calculating discriminant using formula\n",
    "\tdis = b * b - 4 * a * c \n",
    "\tsqrt_val = math.sqrt(abs(dis)) \n",
    "\t\n",
    "\t# checking condition for discriminant\n",
    "\tif dis > 0: \n",
    "\t\tprint(\"real and different roots\") \n",
    "\t\tprint((-b + sqrt_val)/(2 * a)) \n",
    "\t\tprint((-b - sqrt_val)/(2 * a)) \n",
    "\t\n",
    "\telif dis == 0: \n",
    "\t\tprint(\"real and same roots\") \n",
    "\t\tprint(-b / (2 * a)) \n",
    "\t\n",
    "\t# when discriminant is less than 0\n",
    "\telse:\n",
    "\t\tprint(\"Complex Roots\") \n",
    "\t\tprint(- b / (2 * a), + i, sqrt_val) \n",
    "\t\tprint(- b / (2 * a), - i, sqrt_val) \n",
    "\n",
    "# Driver Program \n",
    "a = 1\n",
    "b = 10\n",
    "c = -24\n",
    "\n",
    "# If a is 0, then incorrect equation\n",
    "if a == 0: \n",
    "\t\tprint(\"Input correct quadratic equation\") \n",
    "\n",
    "else:\n",
    "\tequationroots(a, b, c)\n"
   ]
  },
  {
   "cell_type": "code",
   "execution_count": 15,
   "id": "1398f69e-e387-40f9-9155-7992ffd6080b",
   "metadata": {},
   "outputs": [
    {
     "name": "stdin",
     "output_type": "stream",
     "text": [
      "Enter the year: 2000\n"
     ]
    },
    {
     "name": "stdout",
     "output_type": "stream",
     "text": [
      "2000 is Leap year \n",
      "2000 is also a century year\n"
     ]
    }
   ],
   "source": [
    "#19. Create a Python program that checks if a given year is a century year or not using if-else.\n",
    "y=int(input(\"Enter the year:\"))\n",
    "if y%4==0:\n",
    "    print(y,\"is Leap year \")\n",
    "    if y%400==0:\n",
    "        print(y,\"is also a century year\")\n",
    "    else:\n",
    "         print(y,\"is Leap year but not a century year\")\n",
    "else:\n",
    "    print(y,\"is not a Leap year\")"
   ]
  },
  {
   "cell_type": "code",
   "execution_count": 17,
   "id": "e0f22315-99be-4068-bd52-bf28d46f2702",
   "metadata": {},
   "outputs": [
    {
     "name": "stdin",
     "output_type": "stream",
     "text": [
      "Enter the no: 49\n"
     ]
    },
    {
     "name": "stdout",
     "output_type": "stream",
     "text": [
      "True\n"
     ]
    }
   ],
   "source": [
    "#20.Write a Python program to determine if a given number is a perfect square using if-else.\n",
    "\n",
    "from math import sqrt\n",
    "\n",
    "\n",
    "def isPerfectSquare(x):\n",
    "    if x >= 0:\n",
    "        sr = int(sqrt(x))\n",
    "        return (sr * sr) == x\n",
    "    return False\n",
    "\n",
    "\n",
    "n = int(input(\"Enter the no:\"))\n",
    "if isPerfectSquare(n):\n",
    "    print(\"True\")\n",
    "else:\n",
    "    print(\"False\")"
   ]
  },
  {
   "cell_type": "code",
   "execution_count": 24,
   "id": "86df3344-443f-4d53-a233-fb8c6c3fc376",
   "metadata": {},
   "outputs": [
    {
     "name": "stdout",
     "output_type": "stream",
     "text": [
      "use of break statement\n",
      "1\n",
      "2\n",
      "use of continue statement\n",
      "1\n",
      "2\n",
      "4\n",
      "5\n"
     ]
    }
   ],
   "source": [
    "#21.Explain the purpose of the \"continue\" and \"break\" statements within if-else loops.\n",
    "\n",
    "print(\"use of break statement\")  \n",
    "for i in range(1,6):\n",
    "    if i==3:\n",
    "        break\n",
    "    print(i)\n",
    "print(\"use of continue statement\")  \n",
    "for i in range(1,6):\n",
    "    if i==3:\n",
    "        continue\n",
    "    print(i)"
   ]
  },
  {
   "cell_type": "code",
   "execution_count": 14,
   "id": "2f46147e-72d2-4c55-939a-16b845676d34",
   "metadata": {},
   "outputs": [
    {
     "name": "stdin",
     "output_type": "stream",
     "text": [
      "Enter the height in cm:  167.4\n",
      "Enter the weight in kg:  45\n"
     ]
    },
    {
     "name": "stdout",
     "output_type": "stream",
     "text": [
      "Your Body Mass Index is 16.058375406276895\n",
      "Oops! You are underweight.\n"
     ]
    }
   ],
   "source": [
    "#22. Develop a program to categorize a given person's BMI into underweight, normal, overweight, or obese using\n",
    "#elif statements.\n",
    "\n",
    "the_height = float(input(\"Enter the height in cm: \"))  \n",
    "the_weight = float(input(\"Enter the weight in kg: \"))  \n",
    "# defining a function for BMI  \n",
    "the_BMI = the_weight / (the_height/100)**2  \n",
    "# printing the BMI  \n",
    "print(\"Your Body Mass Index is\", the_BMI)  \n",
    "# using the if-elif-else conditions  \n",
    "if the_BMI <= 18.5:  \n",
    "    print(\"Oops! You are underweight.\")  \n",
    "elif the_BMI <= 24.9:  \n",
    "    print(\"Awesome! You are healthy.\")  \n",
    "elif the_BMI <= 29.9:  \n",
    "    the_print(\"Eee! You are over weight.\")  \n",
    "else:  \n",
    "    print(\"Seesh! You are obese.\")  "
   ]
  },
  {
   "cell_type": "code",
   "execution_count": 32,
   "id": "cb6d72d3-7f88-48ff-b5dd-16f7bceabc5f",
   "metadata": {},
   "outputs": [
    {
     "data": {
      "text/plain": [
       "[2, 4]"
      ]
     },
     "execution_count": 32,
     "metadata": {},
     "output_type": "execute_result"
    }
   ],
   "source": [
    "#23.How can you use the \"filter()\" function with if-else statements to filter elements from a list?\n",
    "def check_even_odd():\n",
    "    \n",
    "    l=[1,2,3,4,5]\n",
    "    \n",
    "    \n",
    "list(filter(lambda a: a%2==0,l))"
   ]
  },
  {
   "cell_type": "code",
   "execution_count": 33,
   "id": "1d874123-aad2-41c1-8c4f-f28b8398f447",
   "metadata": {},
   "outputs": [
    {
     "name": "stdout",
     "output_type": "stream",
     "text": [
      "11 is a prime number\n"
     ]
    }
   ],
   "source": [
    "#24.Write a Python program to determine if a given number is prime or not using if-else.\n",
    "\n",
    "num = 11\n",
    "# If given number is greater than 1\n",
    "if num > 1:\n",
    "\t# Iterate from 2 to n / 2\n",
    "\tfor i in range(2, int(num/2)+1):\n",
    "\t\t# If num is divisible by any number between\n",
    "\t\t# 2 and n / 2, it is not prime\n",
    "\t\tif (num % i) == 0:\n",
    "\t\t\tprint(num, \"is not a prime number\")\n",
    "\t\t\tbreak\n",
    "\telse:\n",
    "\t\tprint(num, \"is a prime number\")\n",
    "else:\n",
    "\tprint(num, \"is not a prime number\")\n"
   ]
  },
  {
   "cell_type": "markdown",
   "id": "9ad20cf1-5464-4b52-a607-91ddb0027054",
   "metadata": {},
   "source": [
    "Map Function Assignments"
   ]
  },
  {
   "cell_type": "code",
   "execution_count": 35,
   "id": "3280f3fb-f4f8-46c1-be09-203d2d455583",
   "metadata": {},
   "outputs": [
    {
     "data": {
      "text/plain": [
       "[6, 7, 8, 9, 10]"
      ]
     },
     "execution_count": 35,
     "metadata": {},
     "output_type": "execute_result"
    }
   ],
   "source": [
    "#1. Explain the purpose of the `map()` function in Python and provide an example of how it can be\n",
    "#used to apply a function to each element of an iterable.\n",
    "\n",
    "l=[1,2,3,4,5]\n",
    "\n",
    "list(map(lambda a: a+5,l))"
   ]
  },
  {
   "cell_type": "code",
   "execution_count": 37,
   "id": "2439ab46-dc63-413e-bc7a-3322afbe63a0",
   "metadata": {},
   "outputs": [
    {
     "data": {
      "text/plain": [
       "[1, 4, 9, 16, 25]"
      ]
     },
     "execution_count": 37,
     "metadata": {},
     "output_type": "execute_result"
    }
   ],
   "source": [
    "#2. Write a Python program that uses the `map()` function to square each element of a list of\n",
    "#numbers.\n",
    "\n",
    "l=[1,2,3,4,5]\n",
    "\n",
    "list(map(lambda a: a*a,l))"
   ]
  },
  {
   "cell_type": "code",
   "execution_count": 42,
   "id": "84afdcbe-2a0e-40dc-a002-98863f049eb0",
   "metadata": {},
   "outputs": [
    {
     "name": "stdout",
     "output_type": "stream",
     "text": [
      "using list comprehension\n",
      "[1, 2, 3, 4, 5, 6, 7, 8, 9, 10]\n",
      "using map function\n"
     ]
    },
    {
     "data": {
      "text/plain": [
       "[1, 2, 3, 4, 5, 6, 7, 8, 9, 10]"
      ]
     },
     "execution_count": 42,
     "metadata": {},
     "output_type": "execute_result"
    }
   ],
   "source": [
    "#3.How does the `map()` function differ from a list comprehension in Python, and when would you\n",
    "#choose one over the other?\n",
    "\n",
    "'''List comprehension are used when a list of results is required as map only returns a map object and does not return any list. Map is faster in case of calling an already defined function (as no lambda is required).'''\n",
    "l=[1,2,3,4,5,6,7,8,9,10]\n",
    "l1=[i for i in l]\n",
    "print(\"using list comprehension\")\n",
    "print(l1)\n",
    "print(\"using map function\")\n",
    "list(map(lambda a:a,l))"
   ]
  },
  {
   "cell_type": "code",
   "execution_count": 8,
   "id": "1ce5e376-7f26-4209-a0ee-ab9a245ef368",
   "metadata": {},
   "outputs": [
    {
     "name": "stdin",
     "output_type": "stream",
     "text": [
      "Enter number of elements :  5\n",
      " python\n",
      " data science\n",
      " pwskills\n",
      " statistics\n",
      " machine learning\n"
     ]
    },
    {
     "name": "stdout",
     "output_type": "stream",
     "text": [
      "['python', 'data science', 'pwskills', 'statistics', 'machine learning']\n"
     ]
    },
    {
     "data": {
      "text/plain": [
       "['PYTHON', 'DATA SCIENCE', 'PWSKILLS', 'STATISTICS', 'MACHINE LEARNING']"
      ]
     },
     "execution_count": 8,
     "metadata": {},
     "output_type": "execute_result"
    }
   ],
   "source": [
    "#4. Create a Python program that uses the `map()` function to convert a list of names to uppercase.\n",
    "# creating an empty list\n",
    "lst = []\n",
    "\n",
    "# number of elements as input\n",
    "n = int(input(\"Enter number of elements : \"))\n",
    "\n",
    "# iterating till the range\n",
    "for i in range(0, n):\n",
    "\tele = input(\"\")\n",
    "\t# adding the element\n",
    "\tlst.append(ele) \n",
    "\n",
    "print(lst)\n",
    "def names_list(lst):\n",
    "    return lst.upper()\n",
    "\n",
    "list(map(names_list,lst))"
   ]
  },
  {
   "cell_type": "code",
   "execution_count": 10,
   "id": "0818f6aa-7ef5-47a0-bd08-594ba62f7a92",
   "metadata": {},
   "outputs": [
    {
     "name": "stdin",
     "output_type": "stream",
     "text": [
      "Enter number of elements :  3\n",
      " ishan\n",
      " python\n",
      " data science\n"
     ]
    },
    {
     "name": "stdout",
     "output_type": "stream",
     "text": [
      "['ishan', 'python', 'data science']\n"
     ]
    },
    {
     "data": {
      "text/plain": [
       "[5, 6, 12]"
      ]
     },
     "execution_count": 10,
     "metadata": {},
     "output_type": "execute_result"
    }
   ],
   "source": [
    "#5.Write a Python program that uses the `map()` function to calculate the length of each word in a\n",
    "#list of strings\n",
    "\n",
    "lst = []\n",
    "\n",
    "# number of elements as input\n",
    "n = int(input(\"Enter number of elements : \"))\n",
    "\n",
    "# iterating till the range\n",
    "for i in range(0, n):\n",
    "\tele = input(\"\")\n",
    "\t# adding the element\n",
    "\tlst.append(ele) \n",
    "\n",
    "print(lst)\n",
    "\n",
    "def names_list(lst):\n",
    "    return len(lst)\n",
    "\n",
    "list(map(names_list,lst))\n"
   ]
  },
  {
   "cell_type": "code",
   "execution_count": 8,
   "id": "8b0f5045-ae33-48ff-9ec6-2b0bbcb6370e",
   "metadata": {},
   "outputs": [
    {
     "name": "stdin",
     "output_type": "stream",
     "text": [
      "Enter number of elements :  3\n",
      " 12\n",
      " 3\n",
      " 4\n"
     ]
    },
    {
     "name": "stdout",
     "output_type": "stream",
     "text": [
      "['12', '3', '4']\n"
     ]
    },
    {
     "data": {
      "text/plain": [
       "[144, 9, 16]"
      ]
     },
     "execution_count": 8,
     "metadata": {},
     "output_type": "execute_result"
    }
   ],
   "source": [
    "#6. How can you use the `map()` function to apply a custom function to elements of multiple lists\n",
    "#simultaneously in Python?\n",
    "\n",
    "\n",
    "lst = []\n",
    "\n",
    "# number of elements as input\n",
    "n = int(input(\"Enter number of elements : \"))\n",
    "\n",
    "# iterating till the range\n",
    "for i in range(0, n):\n",
    "\tele = input(\"\")\n",
    "\t# adding the element\n",
    "\tlst.append(ele) \n",
    "\n",
    "print(lst)\n",
    "\n",
    "def cal_square(i):\n",
    "    return int(i)*int(i)\n",
    "\n",
    "list(map(cal_square,lst))"
   ]
  },
  {
   "cell_type": "code",
   "execution_count": 10,
   "id": "f127fdf8-4a48-43a4-b5b3-2f95385173c1",
   "metadata": {},
   "outputs": [
    {
     "name": "stdin",
     "output_type": "stream",
     "text": [
      "Enter number of elements :  3\n",
      " 43\n",
      " 23.5\n",
      " 29\n"
     ]
    },
    {
     "name": "stdout",
     "output_type": "stream",
     "text": [
      "['43', '23.5', '29']\n"
     ]
    },
    {
     "data": {
      "text/plain": [
       "[109.4, 74.30000000000001, 84.2]"
      ]
     },
     "execution_count": 10,
     "metadata": {},
     "output_type": "execute_result"
    }
   ],
   "source": [
    "#7.Create a Python program that uses `map()` to convert a list of temperatures from Celsius to\n",
    "#Fahrenheit.\n",
    "\n",
    "lst = []\n",
    "\n",
    "# number of elements as input\n",
    "n = int(input(\"Enter number of elements : \"))\n",
    "\n",
    "# iterating till the range\n",
    "for i in range(0, n):\n",
    "\tele = input(\"\")\n",
    "\t# adding the element\n",
    "\tlst.append(ele) \n",
    "\n",
    "print(lst)\n",
    "\n",
    "def convert_temp_to_faren(i):\n",
    "    return float(i)*1.8+32\n",
    "\n",
    "list(map(convert_temp_to_faren,lst))"
   ]
  },
  {
   "cell_type": "code",
   "execution_count": 16,
   "id": "df884d2c-a070-4252-aad6-721abb8e8f73",
   "metadata": {},
   "outputs": [
    {
     "name": "stdin",
     "output_type": "stream",
     "text": [
      "Enter number of elements :  2\n",
      " 12.1\n",
      " 23.9\n"
     ]
    },
    {
     "name": "stdout",
     "output_type": "stream",
     "text": [
      "['12.1', '23.9']\n"
     ]
    },
    {
     "data": {
      "text/plain": [
       "[12, 24]"
      ]
     },
     "execution_count": 16,
     "metadata": {},
     "output_type": "execute_result"
    }
   ],
   "source": [
    "#8. Write a Python program that uses the `map()` function to round each element of a list of\n",
    "#floating-point numbers to the nearest integer.\n",
    "\n",
    "lst = []\n",
    "\n",
    "# number of elements as input\n",
    "n = int(input(\"Enter number of elements : \"))\n",
    "\n",
    "# iterating till the range\n",
    "for i in range(0, n):\n",
    "\tele = input(\"\")\n",
    "\t# adding the element\n",
    "\tlst.append(ele) \n",
    "\n",
    "print(lst)\n",
    "\n",
    "def convert_float_to_int(i):\n",
    "    return round(float(i))\n",
    "\n",
    "list(map(convert_float_to_int,lst))"
   ]
  },
  {
   "cell_type": "markdown",
   "id": "29e65e31-d957-4dcb-b2b6-6554efa40f1e",
   "metadata": {},
   "source": [
    "Reduce() Assignments"
   ]
  },
  {
   "cell_type": "code",
   "execution_count": 22,
   "id": "e2741738-19cf-4b39-b277-b870766fb420",
   "metadata": {},
   "outputs": [
    {
     "data": {
      "text/plain": [
       "55"
      ]
     },
     "execution_count": 22,
     "metadata": {},
     "output_type": "execute_result"
    }
   ],
   "source": [
    "#1.What is the `reduce()` function in Python, and what module should you import to use it? Provide\n",
    "#an example of its basic usage\n",
    "\n",
    "from functools import reduce\n",
    "\n",
    "l=[1,2,3,4,5,6,7,8,9,10]\n",
    "reduce(lambda a,b:a+b,l)"
   ]
  },
  {
   "cell_type": "code",
   "execution_count": 24,
   "id": "509ac5a1-1312-4236-ba24-7d0ec0a87f3a",
   "metadata": {},
   "outputs": [
    {
     "data": {
      "text/plain": [
       "72000"
      ]
     },
     "execution_count": 24,
     "metadata": {},
     "output_type": "execute_result"
    }
   ],
   "source": [
    "#2. Write a Python program that uses the `reduce()` function to find the product of all elements in a\n",
    "#list.\n",
    "\n",
    "from functools import reduce\n",
    "\n",
    "l=[12,15,10,5,8]\n",
    "reduce(lambda a,b:a*b,l)"
   ]
  },
  {
   "cell_type": "code",
   "execution_count": 35,
   "id": "ab080c19-1c78-43a5-9d58-eaa9985fe4f4",
   "metadata": {},
   "outputs": [
    {
     "data": {
      "text/plain": [
       "89"
      ]
     },
     "execution_count": 35,
     "metadata": {},
     "output_type": "execute_result"
    }
   ],
   "source": [
    "#3. Create a Python program that uses `reduce()` to find the maximum element in a list of numbers.\n",
    "\n",
    "from functools import reduce\n",
    "\n",
    "l=[12,15,10,5,8,89,76]\n",
    "reduce(lambda a,b:a if a > b else b,l)"
   ]
  },
  {
   "cell_type": "code",
   "execution_count": 36,
   "id": "7e959ccc-8a5c-4587-8024-3b1cb82e3dac",
   "metadata": {},
   "outputs": [
    {
     "data": {
      "text/plain": [
       "'ishanbhaleraopwskills'"
      ]
     },
     "execution_count": 36,
     "metadata": {},
     "output_type": "execute_result"
    }
   ],
   "source": [
    "#4. How can you use the `reduce()` function to concatenate a list of strings into a single string?\n",
    "from functools import reduce\n",
    "str_list=['ishan','bhalerao','pwskills']\n",
    "reduce(lambda a,b:a+b,str_list)"
   ]
  },
  {
   "cell_type": "code",
   "execution_count": 12,
   "id": "0e57e146-ac45-4e88-b059-b0fd164b23b0",
   "metadata": {},
   "outputs": [
    {
     "name": "stdin",
     "output_type": "stream",
     "text": [
      "Enter no: 5\n"
     ]
    },
    {
     "data": {
      "text/plain": [
       "120"
      ]
     },
     "execution_count": 12,
     "metadata": {},
     "output_type": "execute_result"
    }
   ],
   "source": [
    "#5. Write a Python program that calculates the factorial of a number using the `reduce()` function\n",
    "from functools import reduce\n",
    "n=int(input(\"Enter no:\"))\n",
    "fact=reduce(lambda a,b:a*b,range(1,n+1))\n",
    "fact"
   ]
  },
  {
   "cell_type": "code",
   "execution_count": 16,
   "id": "19db8a79-ac3a-4bc0-8f73-500eafdd437b",
   "metadata": {},
   "outputs": [
    {
     "name": "stdin",
     "output_type": "stream",
     "text": [
      "Enter a:  60\n",
      "Enter b:  48\n"
     ]
    },
    {
     "name": "stdout",
     "output_type": "stream",
     "text": [
      "GCD of 60 and 48 is 12\n",
      "GCD using reduce: 12\n"
     ]
    }
   ],
   "source": [
    "#6. Create a Python program that uses `reduce()` to find the GCD (Greatest Common Divisor) of a list\n",
    "#of numbers.\n",
    "from functools import reduce\n",
    "\n",
    "# Recursive function to return gcd of a and b\n",
    "def find_gcd(a, b):\n",
    "    # Everything divides 0\n",
    "    if a == 0:\n",
    "        return b\n",
    "    if b == 0:\n",
    "        return a\n",
    "\n",
    "    # base case\n",
    "    if a == b:\n",
    "        return a\n",
    "\n",
    "    # a is greater\n",
    "    if a > b:\n",
    "        return find_gcd(a - b, b)\n",
    "    return find_gcd(a, b - a)\n",
    "\n",
    "# Driver program to test the recursive function\n",
    "a = int(input(\"Enter a: \"))\n",
    "b = int(input(\"Enter b: \"))\n",
    "if find_gcd(a, b):\n",
    "    print('GCD of', a, 'and', b, 'is', find_gcd(a, b))\n",
    "else:\n",
    "    print('GCD not found')\n",
    "\n",
    "# Using reduce to find GCD\n",
    "gcd_result = reduce(lambda x, y: x if y == 0 else find_gcd(y, x % y), [a, b])\n",
    "print('GCD using reduce:', gcd_result)\n",
    "\n"
   ]
  },
  {
   "cell_type": "code",
   "execution_count": 17,
   "id": "a83416a9-402f-4770-a594-3fa031308f67",
   "metadata": {},
   "outputs": [
    {
     "name": "stdin",
     "output_type": "stream",
     "text": [
      "Enter Number:  44\n"
     ]
    },
    {
     "name": "stdout",
     "output_type": "stream",
     "text": [
      "990\n"
     ]
    }
   ],
   "source": [
    "#7. Write a Python program that uses the `reduce()` function to find the sum of the digits of a given\n",
    "#number.\n",
    "from functools import reduce\n",
    "\n",
    "def sum_of_dig(acc, num):\n",
    "    return acc + num\n",
    "\n",
    "num = int(input(\"Enter Number: \"))\n",
    "x = list(range(1, num + 1))\n",
    "\n",
    "result = reduce(sum_of_dig, x)\n",
    "print(result)"
   ]
  },
  {
   "cell_type": "markdown",
   "id": "ae41a85f-29d9-431a-8889-6848ab0e00fa",
   "metadata": {},
   "source": [
    "Filter function Assignments"
   ]
  },
  {
   "cell_type": "code",
   "execution_count": 32,
   "id": "dfc59a0f-73ae-4b3a-b636-b54135d5bda2",
   "metadata": {},
   "outputs": [
    {
     "data": {
      "text/plain": [
       "[5, 10, 45]"
      ]
     },
     "execution_count": 32,
     "metadata": {},
     "output_type": "execute_result"
    }
   ],
   "source": [
    "#1.Explain the purpose of the `filter()` function in Python and provide an example of how it can be\n",
    "#used to filter elements from an iterable \n",
    "\n",
    "l=[1,2,3,4,5,10,45]\n",
    "list(filter(lambda a: a%5==0,l))"
   ]
  },
  {
   "cell_type": "code",
   "execution_count": 33,
   "id": "afd60932-0351-49bd-938c-3dc7f89cd036",
   "metadata": {},
   "outputs": [
    {
     "data": {
      "text/plain": [
       "[12, 6, 34, 90]"
      ]
     },
     "execution_count": 33,
     "metadata": {},
     "output_type": "execute_result"
    }
   ],
   "source": [
    "#2. Write a Python program that uses the `filter()` function to select even numbers from a list of\n",
    "#integers\n",
    "\n",
    "l=[12,45,6,67,34,90]\n",
    "list(filter(lambda a: a%2==0,l))"
   ]
  },
  {
   "cell_type": "code",
   "execution_count": 36,
   "id": "88b379c9-dbf2-4443-8683-d03e08afda78",
   "metadata": {},
   "outputs": [
    {
     "data": {
      "text/plain": [
       "['pwskills', 'python']"
      ]
     },
     "execution_count": 36,
     "metadata": {},
     "output_type": "execute_result"
    }
   ],
   "source": [
    "#3. Create a Python program that uses the `filter()` function to select names that start with a specific\n",
    "#letter from a list of strings.\n",
    "\n",
    "str_list=['ishan','bhalerao','pwskills','python']\n",
    "list(filter(lambda a:a[0]=='p' ,str_list))"
   ]
  },
  {
   "cell_type": "code",
   "execution_count": 19,
   "id": "d7fd322a-49dc-43c0-b739-a8521affe7f6",
   "metadata": {},
   "outputs": [
    {
     "data": {
      "text/plain": [
       "[2,\n",
       " 3,\n",
       " 5,\n",
       " 7,\n",
       " 11,\n",
       " 13,\n",
       " 17,\n",
       " 19,\n",
       " 23,\n",
       " 29,\n",
       " 31,\n",
       " 37,\n",
       " 41,\n",
       " 43,\n",
       " 47,\n",
       " 53,\n",
       " 59,\n",
       " 61,\n",
       " 67,\n",
       " 71,\n",
       " 73,\n",
       " 79,\n",
       " 83,\n",
       " 89,\n",
       " 97,\n",
       " 101,\n",
       " 103,\n",
       " 107,\n",
       " 109,\n",
       " 113,\n",
       " 127,\n",
       " 131,\n",
       " 137,\n",
       " 139,\n",
       " 149,\n",
       " 151,\n",
       " 157,\n",
       " 163,\n",
       " 167,\n",
       " 173,\n",
       " 179,\n",
       " 181,\n",
       " 191,\n",
       " 193,\n",
       " 197,\n",
       " 199]"
      ]
     },
     "execution_count": 19,
     "metadata": {},
     "output_type": "execute_result"
    }
   ],
   "source": [
    "#4. Write a Python program that uses the `filter()` function to select prime numbers from a list of\n",
    "#integers\n",
    "def check_prime(n):\n",
    "    if n<=1:\n",
    "        return False\n",
    "    elif n<=3:\n",
    "        return True\n",
    "    elif n%2==0 or n%3==0:\n",
    "        return False\n",
    "    i=5\n",
    "    while i*i<=n:\n",
    "        if n%i==0 or n%(i+2)==0:\n",
    "            return False\n",
    "        i+=6\n",
    "    return True\n",
    "\n",
    "prime=[i for i in range(2,100) if check_prime(i)]\n",
    "\n",
    "list(filter(check_prime,range(2,201)))\n",
    "        "
   ]
  },
  {
   "cell_type": "code",
   "execution_count": 20,
   "id": "9451152a-9eda-4bde-a2ab-1acd859feb3d",
   "metadata": {},
   "outputs": [
    {
     "name": "stdout",
     "output_type": "stream",
     "text": [
      "[1, None, None, 2, 3, 4, None]\n",
      "[1, 2, 3, 4]\n"
     ]
    }
   ],
   "source": [
    "#5. How can you use the `filter()` function to remove None values from a list in Python?\n",
    "\n",
    "original_list=[1,None,None,2,3,4,None]\n",
    "updated_list=list(filter(None,original_list))\n",
    "print(original_list)\n",
    "print(updated_list)"
   ]
  },
  {
   "cell_type": "code",
   "execution_count": 21,
   "id": "19c6764f-6ff4-448f-880a-fad57b7ad8ed",
   "metadata": {},
   "outputs": [
    {
     "data": {
      "text/plain": [
       "['sudh']"
      ]
     },
     "execution_count": 21,
     "metadata": {},
     "output_type": "execute_result"
    }
   ],
   "source": [
    "#6. Create a Python program that uses `filter()` to select words longer than a certain length from a\n",
    "#list of strings.\n",
    "\n",
    "l=[\"ishan\",\"bhalerao\",\"pwskills\",\"sudh\",\"python\"]\n",
    "list(filter(lambda a: len(a)<5,l))"
   ]
  },
  {
   "cell_type": "code",
   "execution_count": 22,
   "id": "a26de7e4-0400-4fde-a2f5-b3d4cd753ef9",
   "metadata": {},
   "outputs": [
    {
     "name": "stdout",
     "output_type": "stream",
     "text": [
      "Original List: [10, 5, 15, 8, 20, 3, 12]\n",
      "Elements greater than 10: [15, 20, 12]\n"
     ]
    }
   ],
   "source": [
    "#7. Write a Python program that uses the `filter()` function to select elements greater than a\n",
    "#specified threshold from a list of values.\n",
    "\n",
    "def filter_greater_than_threshold(value, threshold):\n",
    "    return value > threshold\n",
    "\n",
    "def main():\n",
    "    # Sample list of values\n",
    "    values = [10, 5, 15, 8, 20, 3, 12]\n",
    "\n",
    "    # Specify the threshold\n",
    "    threshold = 10\n",
    "\n",
    "    # Use filter() to select elements greater than the threshold\n",
    "    filtered_values = list(filter(lambda x: filter_greater_than_threshold(x, threshold), values))\n",
    "\n",
    "    # Print the original list and the filtered list\n",
    "    print(\"Original List:\", values)\n",
    "    print(f\"Elements greater than {threshold}: {filtered_values}\")\n",
    "\n",
    "if __name__ == \"__main__\":\n",
    "    main()\n"
   ]
  },
  {
   "cell_type": "markdown",
   "id": "456b179d-f56d-43bd-9de6-8258da1b18c5",
   "metadata": {},
   "source": [
    "Recursion Assignments"
   ]
  },
  {
   "cell_type": "code",
   "execution_count": 27,
   "id": "e5cb65e2-25e4-4bda-94a4-ec49fb48d508",
   "metadata": {},
   "outputs": [
    {
     "data": {
      "text/plain": [
       "120"
      ]
     },
     "execution_count": 27,
     "metadata": {},
     "output_type": "execute_result"
    }
   ],
   "source": [
    "#1. Explain the concept of recursion in Python. How does it differ from iteration?\n",
    "'''Recursion in Python:\n",
    "Recursion is a programming technique where a function calls itself in its own definition. In a recursive function, the problem is divided into smaller sub-problems, and the function is called recursively to solve each sub-problem until a base case is reached.\n",
    "\n",
    "Here's a simple example of a recursive function to calculate the factorial of a number:\n",
    "\n",
    "In this example, factorial(n) is defined in terms of itself (factorial(n - 1)), breaking down the original problem into smaller sub-problems until it reaches the base case (n == 0 or n == 1), where the function returns a known value without further recursion.\n",
    "\n",
    "Iteration in Python:\n",
    "Iteration involves repeatedly executing a set of statements or a block of code. It is typically achieved using loops, such as for and while loops.\n",
    "\n",
    "Here's an example of an iterative function to calculate the factorial of a number:\n",
    "'''\n",
    "\n",
    "def factorial(n):\n",
    "    if n == 0 or n == 1:\n",
    "        return 1\n",
    "    else:\n",
    "        return n * factorial(n - 1)\n",
    "\n",
    "factorial(5)"
   ]
  },
  {
   "cell_type": "code",
   "execution_count": 29,
   "id": "3e64d794-56bc-4be6-b7d8-4040b54c4650",
   "metadata": {},
   "outputs": [
    {
     "data": {
      "text/plain": [
       "120"
      ]
     },
     "execution_count": 29,
     "metadata": {},
     "output_type": "execute_result"
    }
   ],
   "source": [
    "def factorial_iterative(n):\n",
    "    result = 1\n",
    "    for i in range(1, n + 1):\n",
    "        result *= i\n",
    "    return result\n",
    "factorial(5)"
   ]
  },
  {
   "cell_type": "code",
   "execution_count": 33,
   "id": "004f0204-29bf-4663-afc3-8bae692a573a",
   "metadata": {},
   "outputs": [
    {
     "name": "stdin",
     "output_type": "stream",
     "text": [
      "Enter a no: 7\n"
     ]
    },
    {
     "data": {
      "text/plain": [
       "5040"
      ]
     },
     "execution_count": 33,
     "metadata": {},
     "output_type": "execute_result"
    }
   ],
   "source": [
    "#2.Write a Python program to calculate the factorial of a number using recursion.\n",
    "\n",
    "fact=1\n",
    "def factorial(n):\n",
    "    if n==0:\n",
    "        return 1\n",
    "    else:\n",
    "        return n * factorial(n-1)\n",
    "\n",
    "n=int(input(\"Enter a no:\"))\n",
    "factorial(n)"
   ]
  },
  {
   "cell_type": "code",
   "execution_count": 34,
   "id": "32a85ca0-d982-4ad9-aa40-83957fb5de67",
   "metadata": {},
   "outputs": [
    {
     "name": "stdin",
     "output_type": "stream",
     "text": [
      "Enter the value of n:  10\n"
     ]
    },
    {
     "name": "stdout",
     "output_type": "stream",
     "text": [
      "The 10th Fibonacci number is: 34\n"
     ]
    }
   ],
   "source": [
    "#3. Create a recursive Python function to find the nth Fibonacci number.\n",
    "\n",
    "def fibonacci(n):\n",
    "    if n <= 0:\n",
    "        return \"Input should be a positive integer\"\n",
    "    elif n == 1:\n",
    "        return 0\n",
    "    elif n == 2:\n",
    "        return 1\n",
    "    else:\n",
    "        return fibonacci(n - 1) + fibonacci(n - 2)\n",
    "\n",
    "# Example usage:\n",
    "n = int(input(\"Enter the value of n: \"))\n",
    "result = fibonacci(n)\n",
    "\n",
    "if isinstance(result, int):\n",
    "    print(f\"The {n}th Fibonacci number is: {result}\")\n",
    "else:\n",
    "    print(result)\n"
   ]
  },
  {
   "cell_type": "code",
   "execution_count": 35,
   "id": "ac9972b6-51ba-4720-a04e-8eae0b267de2",
   "metadata": {},
   "outputs": [
    {
     "name": "stdout",
     "output_type": "stream",
     "text": [
      "The sum of elements in the list is: 15\n"
     ]
    }
   ],
   "source": [
    "#4.Write a recursive Python function to calculate the sum of all elements in a list. \n",
    "\n",
    "def recursive_sum(lst):\n",
    "    if not lst:\n",
    "        return 0\n",
    "    else:\n",
    "        return lst[0] + recursive_sum(lst[1:])\n",
    "\n",
    "# Example usage:\n",
    "my_list = [1, 2, 3, 4, 5]\n",
    "\n",
    "result = recursive_sum(my_list)\n",
    "print(f\"The sum of elements in the list is: {result}\")\n"
   ]
  },
  {
   "cell_type": "code",
   "execution_count": null,
   "id": "844813f8-f86d-4a18-b47b-acb0d18720bb",
   "metadata": {},
   "outputs": [],
   "source": [
    "#5. How can you prevent a recursive function from running indefinitely, causing a stack overflow\n",
    "#error?\n",
    "\n",
    "'''To prevent a recursive function from running indefinitely and causing a stack overflow error, you should ensure that the recursive calls eventually reach a base case. A base case is a condition under which the function stops making further recursive calls and returns a result. Here are some strategies to prevent infinite recursion:'''\n",
    "def infinite_recursion(n):\n",
    "    # Missing base case, causing infinite recursion\n",
    "    return infinite_recursion(n - 1)\n",
    "\n",
    "# Uncommenting the line below would result in a stack overflow error\n",
    "# infinite_recursion(5)\n"
   ]
  },
  {
   "cell_type": "code",
   "execution_count": 36,
   "id": "a94a77b4-d1e0-46ec-a102-48f3f1da63c2",
   "metadata": {},
   "outputs": [
    {
     "name": "stdin",
     "output_type": "stream",
     "text": [
      "Enter the first number:  12\n",
      "Enter the second number:  60\n"
     ]
    },
    {
     "name": "stdout",
     "output_type": "stream",
     "text": [
      "The GCD of 12 and 60 is: 12\n"
     ]
    }
   ],
   "source": [
    "#6. Create a recursive Python function to find the greatest common divisor (GCD) of two numbers\n",
    "#using the Euclidean algorithm.\n",
    "\n",
    "def gcd_euclidean(a, b):\n",
    "    if b == 0:\n",
    "        return a\n",
    "    else:\n",
    "        return gcd_euclidean(b, a % b)\n",
    "\n",
    "# Example usage:\n",
    "num1 = int(input(\"Enter the first number: \"))\n",
    "num2 = int(input(\"Enter the second number: \"))\n",
    "\n",
    "result = gcd_euclidean(num1, num2)\n",
    "print(f\"The GCD of {num1} and {num2} is: {result}\")\n"
   ]
  },
  {
   "cell_type": "code",
   "execution_count": 37,
   "id": "94655a7b-7877-469d-bf67-cb23d379678d",
   "metadata": {},
   "outputs": [
    {
     "name": "stdin",
     "output_type": "stream",
     "text": [
      "Enter a string:  ishan\n"
     ]
    },
    {
     "name": "stdout",
     "output_type": "stream",
     "text": [
      "The original string: ishan\n",
      "The reversed string: nahsi\n"
     ]
    }
   ],
   "source": [
    "#7.Write a recursive Python function to reverse a string.\n",
    "\n",
    "def reverse_string(input_str):\n",
    "    if len(input_str) == 0:\n",
    "        return input_str\n",
    "    else:\n",
    "        return input_str[-1] + reverse_string(input_str[:-1])\n",
    "\n",
    "# Example usage:\n",
    "original_string = input(\"Enter a string: \")\n",
    "reversed_string = reverse_string(original_string)\n",
    "\n",
    "print(f\"The original string: {original_string}\")\n",
    "print(f\"The reversed string: {reversed_string}\")\n"
   ]
  },
  {
   "cell_type": "code",
   "execution_count": 38,
   "id": "902b2def-280a-410b-a68a-60442792ba8c",
   "metadata": {},
   "outputs": [
    {
     "name": "stdin",
     "output_type": "stream",
     "text": [
      "Enter the base (x):  6\n",
      "Enter the exponent (n):  5\n"
     ]
    },
    {
     "name": "stdout",
     "output_type": "stream",
     "text": [
      "6.0 raised to the power of 5 is: 7776.0\n"
     ]
    }
   ],
   "source": [
    "#8. Create a recursive Python function to calculate the power of a number (x^n).\n",
    "\n",
    "def power(x, n):\n",
    "    if n == 0:\n",
    "        return 1\n",
    "    else:\n",
    "        return x * power(x, n - 1)\n",
    "\n",
    "# Example usage:\n",
    "base = float(input(\"Enter the base (x): \"))\n",
    "exponent = int(input(\"Enter the exponent (n): \"))\n",
    "\n",
    "result = power(base, exponent)\n",
    "print(f\"{base} raised to the power of {exponent} is: {result}\")\n"
   ]
  },
  {
   "cell_type": "code",
   "execution_count": 39,
   "id": "4f5c4d0a-269c-4f7d-bc7b-21bb87402d54",
   "metadata": {},
   "outputs": [
    {
     "name": "stdin",
     "output_type": "stream",
     "text": [
      "Enter a string:  ishan\n"
     ]
    },
    {
     "name": "stdout",
     "output_type": "stream",
     "text": [
      "All permutations of ishan:\n",
      "ishan\n",
      "ishna\n",
      "isahn\n",
      "isanh\n",
      "isnha\n",
      "isnah\n",
      "ihsan\n",
      "ihsna\n",
      "ihasn\n",
      "ihans\n",
      "ihnsa\n",
      "ihnas\n",
      "iashn\n",
      "iasnh\n",
      "iahsn\n",
      "iahns\n",
      "iansh\n",
      "ianhs\n",
      "insha\n",
      "insah\n",
      "inhsa\n",
      "inhas\n",
      "inash\n",
      "inahs\n",
      "sihan\n",
      "sihna\n",
      "siahn\n",
      "sianh\n",
      "sinha\n",
      "sinah\n",
      "shian\n",
      "shina\n",
      "shain\n",
      "shani\n",
      "shnia\n",
      "shnai\n",
      "saihn\n",
      "sainh\n",
      "sahin\n",
      "sahni\n",
      "sanih\n",
      "sanhi\n",
      "sniha\n",
      "sniah\n",
      "snhia\n",
      "snhai\n",
      "snaih\n",
      "snahi\n",
      "hisan\n",
      "hisna\n",
      "hiasn\n",
      "hians\n",
      "hinsa\n",
      "hinas\n",
      "hsian\n",
      "hsina\n",
      "hsain\n",
      "hsani\n",
      "hsnia\n",
      "hsnai\n",
      "haisn\n",
      "hains\n",
      "hasin\n",
      "hasni\n",
      "hanis\n",
      "hansi\n",
      "hnisa\n",
      "hnias\n",
      "hnsia\n",
      "hnsai\n",
      "hnais\n",
      "hnasi\n",
      "aishn\n",
      "aisnh\n",
      "aihsn\n",
      "aihns\n",
      "ainsh\n",
      "ainhs\n",
      "asihn\n",
      "asinh\n",
      "ashin\n",
      "ashni\n",
      "asnih\n",
      "asnhi\n",
      "ahisn\n",
      "ahins\n",
      "ahsin\n",
      "ahsni\n",
      "ahnis\n",
      "ahnsi\n",
      "anish\n",
      "anihs\n",
      "ansih\n",
      "anshi\n",
      "anhis\n",
      "anhsi\n",
      "nisha\n",
      "nisah\n",
      "nihsa\n",
      "nihas\n",
      "niash\n",
      "niahs\n",
      "nsiha\n",
      "nsiah\n",
      "nshia\n",
      "nshai\n",
      "nsaih\n",
      "nsahi\n",
      "nhisa\n",
      "nhias\n",
      "nhsia\n",
      "nhsai\n",
      "nhais\n",
      "nhasi\n",
      "naish\n",
      "naihs\n",
      "nasih\n",
      "nashi\n",
      "nahis\n",
      "nahsi\n"
     ]
    }
   ],
   "source": [
    "#9. Write a recursive Python function to find all permutations of a given string.\n",
    "\n",
    "def generate_permutations(s):\n",
    "    if len(s) == 1:\n",
    "        return [s]\n",
    "    \n",
    "    all_permutations = []\n",
    "    \n",
    "    for i in range(len(s)):\n",
    "        current_char = s[i]\n",
    "        remaining_chars = s[:i] + s[i+1:]\n",
    "        \n",
    "        for permutation in generate_permutations(remaining_chars):\n",
    "            all_permutations.append(current_char + permutation)\n",
    "    \n",
    "    return all_permutations\n",
    "\n",
    "# Example usage:\n",
    "input_string = input(\"Enter a string: \")\n",
    "result = generate_permutations(input_string)\n",
    "\n",
    "print(f\"All permutations of {input_string}:\")\n",
    "for perm in result:\n",
    "    print(perm)\n"
   ]
  },
  {
   "cell_type": "code",
   "execution_count": 41,
   "id": "8ff58dbc-3e12-471c-a6dd-2d8f8a02580d",
   "metadata": {},
   "outputs": [
    {
     "name": "stdin",
     "output_type": "stream",
     "text": [
      "Enter a string:  nitin\n"
     ]
    },
    {
     "name": "stdout",
     "output_type": "stream",
     "text": [
      "nitin is a palindrome.\n"
     ]
    }
   ],
   "source": [
    "#10. Write a recursive Python function to check if a string is a palindrome\n",
    "\n",
    "def is_palindrome(s):\n",
    "    s = s.lower()  # Convert to lowercase to make the comparison case-insensitive\n",
    "    s = ''.join(c for c in s if c.isalnum())  # Remove non-alphanumeric characters\n",
    "    return is_palindrome_recursive(s)\n",
    "\n",
    "def is_palindrome_recursive(s):\n",
    "    if len(s) <= 1:\n",
    "        return True\n",
    "    else:\n",
    "        return s[0] == s[-1] and is_palindrome_recursive(s[1:-1])\n",
    "\n",
    "# Example usage:\n",
    "input_string = input(\"Enter a string: \")\n",
    "result = is_palindrome(input_string)\n",
    "\n",
    "if result:\n",
    "    print(f\"{input_string} is a palindrome.\")\n",
    "else:\n",
    "    print(f\"{input_string} is not a palindrome.\")\n",
    "\n"
   ]
  },
  {
   "cell_type": "code",
   "execution_count": 42,
   "id": "0106f4b1-ed2c-4e7e-b3be-59c8ef62cf66",
   "metadata": {},
   "outputs": [
    {
     "name": "stdin",
     "output_type": "stream",
     "text": [
      "Enter a list of elements separated by space:  ishan,bhalerao,pwskills,data science\n"
     ]
    },
    {
     "name": "stdout",
     "output_type": "stream",
     "text": [
      "All possible combinations:\n",
      "['ishan,bhalerao,pwskills,data', 'science']\n",
      "['ishan,bhalerao,pwskills,data']\n",
      "['science']\n",
      "[]\n"
     ]
    }
   ],
   "source": [
    "#11. Create a recursive Python function to generate all possible combinations of a list of elements.\n",
    "\n",
    "def generate_combinations(elements):\n",
    "    all_combinations = []\n",
    "    generate_combinations_recursive([], elements, all_combinations)\n",
    "    return all_combinations\n",
    "\n",
    "def generate_combinations_recursive(current_combination, remaining_elements, all_combinations):\n",
    "    if not remaining_elements:\n",
    "        all_combinations.append(current_combination)\n",
    "    else:\n",
    "        generate_combinations_recursive(current_combination + [remaining_elements[0]], remaining_elements[1:], all_combinations)\n",
    "        generate_combinations_recursive(current_combination, remaining_elements[1:], all_combinations)\n",
    "\n",
    "# Example usage:\n",
    "input_list = input(\"Enter a list of elements separated by space: \").split()\n",
    "result = generate_combinations(input_list)\n",
    "\n",
    "print(\"All possible combinations:\")\n",
    "for combination in result:\n",
    "    print(combination)\n",
    "\n"
   ]
  },
  {
   "cell_type": "raw",
   "id": "300cdab5-4762-43f4-9be7-babb89e410a2",
   "metadata": {},
   "source": [
    "Basics of Functions"
   ]
  },
  {
   "cell_type": "code",
   "execution_count": null,
   "id": "73840bc9-4e97-4dff-99f8-d152497fa224",
   "metadata": {},
   "outputs": [],
   "source": [
    "#1. What is a function in Python, and why is it used?\n",
    "\n",
    "'''def function_name(parameters):\n",
    "    # Function body\n",
    "    # Code to perform the specified task\n",
    "    return result  # Optional return statement\n",
    "\n",
    "Function Name:\n",
    "\n",
    "A name that uniquely identifies the function and is used to call it.\n",
    "Parameters:\n",
    "\n",
    "Values that are passed to the function when it is called. Functions can have zero or more parameters.\n",
    "Function Body:\n",
    "\n",
    "The block of code inside the function that defines what the function does.\n",
    "Return Statement:\n",
    "\n",
    "An optional statement used to return a value from the function to the caller.\n",
    "Why Functions are Used:\n",
    "Modularity:\n",
    "\n",
    "Functions allow code to be broken down into smaller, manageable pieces. Each function can focus on a specific task, promoting modularity and making the code easier to understand.\n",
    "Code Reusability:\n",
    "\n",
    "Once a function is defined, it can be reused in different parts of the program or even in different programs. This reduces code duplication and maintenance efforts.\n",
    "Readability:\n",
    "\n",
    "Functions improve code readability by encapsulating complex logic or a series of steps behind a descriptive and meaningful name. This makes the code easier to follow and comprehend.\n",
    "Abstraction:\n",
    "\n",
    "Functions abstract away the implementation details, providing a high-level interface for interacting with certain functionalities. Users of the function only need to know what the function does, not how it does it.\n",
    "Parameterization:\n",
    "\n",
    "Functions can take parameters, allowing them to accept different inputs and produce different outputs. This makes functions flexible and adaptable to different scenarios.\n",
    "Code Organization:\n",
    "\n",
    "Functions contribute to a well-organized code structure. By grouping related code into functions, developers can navigate through the code more efficiently.\n",
    "Testing and Debugging:\n",
    "\n",
    "Functions facilitate testing and debugging by isolating specific parts of the code. When a function is thoroughly tested and debugged, it provides confidence in its correctness, and errors can be localized more easily.\n",
    "In summary, functions in Python provide a way to structure and organize code, promote code reuse, and improve readability. They are a fundamental concept in programming and are essential for building scalable and maintainable software.'''"
   ]
  },
  {
   "cell_type": "code",
   "execution_count": 43,
   "id": "ea8d0831-5cba-49d5-b0bc-bd23a37a4d38",
   "metadata": {},
   "outputs": [
    {
     "name": "stdout",
     "output_type": "stream",
     "text": [
      "The sum is: 7\n"
     ]
    }
   ],
   "source": [
    "#2.How do you define a function in Python? Provide an example\n",
    "def add_numbers(a, b):\n",
    "    result = a + b\n",
    "    return result\n",
    "\n",
    "# Example usage:\n",
    "sum_result = add_numbers(3, 4)\n",
    "print(\"The sum is:\", sum_result)\n"
   ]
  },
  {
   "cell_type": "code",
   "execution_count": 44,
   "id": "72df61de-ba58-4280-857b-d6b159f15c45",
   "metadata": {},
   "outputs": [
    {
     "data": {
      "text/plain": [
       "' Function Defination:\\n    def functionname([parameter list]):\\n        body of function\\n        \\n    Function call:\\n    functionname()\\n'"
      ]
     },
     "execution_count": 44,
     "metadata": {},
     "output_type": "execute_result"
    }
   ],
   "source": [
    "#3. Explain the difference between a function definition and a function call.\n",
    "\n",
    "''' Function Defination:\n",
    "    def functionname([parameter list]):\n",
    "        body of function\n",
    "        \n",
    "    Function call:\n",
    "    functionname()\n",
    "'''"
   ]
  },
  {
   "cell_type": "code",
   "execution_count": 45,
   "id": "dc924051-76e7-4fb4-afdd-902219805f25",
   "metadata": {},
   "outputs": [
    {
     "name": "stdin",
     "output_type": "stream",
     "text": [
      "Enter First No: 167\n",
      "Enter Second No: 123\n"
     ]
    },
    {
     "name": "stdout",
     "output_type": "stream",
     "text": [
      "sum is: 290\n"
     ]
    }
   ],
   "source": [
    "#4. Write a Python program that defines a function to calculate the sum of two numbers and then\n",
    "#calls the function\n",
    "\n",
    "def add(a,b):\n",
    "    return a+b\n",
    "\n",
    "a=int(input(\"Enter First No:\"))\n",
    "b=int(input(\"Enter Second No:\"))\n",
    "sum=add(a,b)\n",
    "print(\"sum is:\",sum)"
   ]
  },
  {
   "cell_type": "code",
   "execution_count": 46,
   "id": "c900fbe1-36b5-4cbf-893b-80171fd3b3c9",
   "metadata": {},
   "outputs": [
    {
     "data": {
      "text/plain": [
       "\"In this example:\\n\\nFunction Name: calculate_sum\\nReturn Type: int\\nParameters: a and b of type int\\nParameter Names: Descriptive names (a and b)\\nDocumentation/Comments: Description of the function's purpose, parameters, and return value.\\nThe function signature provides a clear and concise summary of the function, making it easier for other developers (or even the same developer after some time) to understand and use the function correctly.\""
      ]
     },
     "execution_count": 46,
     "metadata": {},
     "output_type": "execute_result"
    }
   ],
   "source": [
    "#5. What is a function signature, and what information does it typically include?\n",
    "\n",
    "def calculate_sum(a: int, b: int) -> int:\n",
    "    \"\"\"\n",
    "    Calculates the sum of two integers.\n",
    "\n",
    "    Parameters:\n",
    "    - a (int): The first integer.\n",
    "    - b (int): The second integer.\n",
    "\n",
    "    Returns:\n",
    "    - int: The sum of the two integers.\n",
    "    \"\"\"\n",
    "    return a + b\n",
    "\n",
    "'''In this example:\n",
    "\n",
    "Function Name: calculate_sum\n",
    "Return Type: int\n",
    "Parameters: a and b of type int\n",
    "Parameter Names: Descriptive names (a and b)\n",
    "Documentation/Comments: Description of the function's purpose, parameters, and return value.\n",
    "The function signature provides a clear and concise summary of the function, making it easier for other developers (or even the same developer after some time) to understand and use the function correctly.'''"
   ]
  },
  {
   "cell_type": "code",
   "execution_count": 47,
   "id": "e3a8013f-c284-4d35-ac57-d7c24ab9bada",
   "metadata": {},
   "outputs": [
    {
     "name": "stdin",
     "output_type": "stream",
     "text": [
      "Enter First No: 12\n",
      "Enter Second No: 5\n"
     ]
    },
    {
     "name": "stdout",
     "output_type": "stream",
     "text": [
      "sum is: 60\n"
     ]
    }
   ],
   "source": [
    "#6. Create a Python function that takes two arguments and returns their product\n",
    "\n",
    "def product(a,b):\n",
    "    return a*b\n",
    "\n",
    "a=int(input(\"Enter First No:\"))\n",
    "b=int(input(\"Enter Second No:\"))\n",
    "p=product(a,b)\n",
    "print(\"sum is:\",p)"
   ]
  },
  {
   "cell_type": "markdown",
   "id": "318ae87b-9cee-4e26-be1e-9b0a8d54267b",
   "metadata": {},
   "source": [
    "Function Parameters and Arguments:"
   ]
  },
  {
   "cell_type": "code",
   "execution_count": null,
   "id": "320dc386-2810-4f3b-9528-7396a64a3f38",
   "metadata": {},
   "outputs": [],
   "source": [
    "#1. Explain the concepts of formal parameters and actual arguments in Python functions.\n",
    "\n",
    "Formal Parameters:\n",
    "Definition:\n",
    "\n",
    "'''Formal parameters are the variables listed in the parentheses of a function definition. They act as placeholders for the values that will be passed into the function when it is called.\n",
    "Purpose:\n",
    "\n",
    "Formal parameters define the input that a function expects. They are like local variables within the function and are used to represent the values that the function will operate on.\n",
    "\n",
    "def add_numbers(x, y):\n",
    "    # x and y are formal parameters\n",
    "    result = x + y\n",
    "    return result\n",
    "Usage:\n",
    "\n",
    "Formal parameters are used within the function body to perform operations. Their names are known only within the scope of the function.\n",
    "Actual Arguments:\n",
    "Definition:\n",
    "\n",
    "Actual arguments are the values or expressions provided in the function call. They are the concrete data that is passed to the function when it is invoked.\n",
    "Purpose:\n",
    "\n",
    "Actual arguments supply the values for the formal parameters defined in the function. They determine the actual data on which the function will operate.\n",
    "\n",
    "# 3 and 4 are actual arguments\n",
    "sum_result = add_numbers(3, 4)\n",
    "'''"
   ]
  },
  {
   "cell_type": "code",
   "execution_count": 48,
   "id": "834e3899-55c8-4941-b0b6-030755e1d119",
   "metadata": {},
   "outputs": [
    {
     "name": "stdout",
     "output_type": "stream",
     "text": [
      "sum is: 12\n"
     ]
    }
   ],
   "source": [
    "#2. Write a Python program that defines a function with default argument values.\n",
    "\n",
    "def add(a,b=5):\n",
    "    return a+b\n",
    "\n",
    "c=add(7)\n",
    "print(\"sum is:\",c)"
   ]
  },
  {
   "cell_type": "code",
   "execution_count": 49,
   "id": "f7e258e3-85aa-40f8-ad9b-47a855db929a",
   "metadata": {},
   "outputs": [
    {
     "name": "stdout",
     "output_type": "stream",
     "text": [
      "The youngest child is Linus\n"
     ]
    }
   ],
   "source": [
    "#3. How do you use keyword arguments in Python function calls? Provide an example.\n",
    "\n",
    "def my_function(child3, child2, child1):\n",
    "  print(\"The youngest child is \" + child3)\n",
    "\n",
    "my_function(child1 = \"Emil\", child2 = \"Tobias\", child3 = \"Linus\")\n"
   ]
  },
  {
   "cell_type": "code",
   "execution_count": 58,
   "id": "5e96f68e-9a04-4e25-8ad8-3e545594beab",
   "metadata": {},
   "outputs": [
    {
     "name": "stdout",
     "output_type": "stream",
     "text": [
      "10\n"
     ]
    }
   ],
   "source": [
    "#4. Create a Python function that accepts a variable number of arguments and calculates their sum.\n",
    "\n",
    "def sum_all(*args):\n",
    "    s = 0\n",
    "    for i in args:\n",
    "        s += i\n",
    "    print(s)\n",
    "\n",
    "# Example usage:\n",
    "sum_all(1, 2, 3, 4)"
   ]
  },
  {
   "cell_type": "code",
   "execution_count": 1,
   "id": "68035a59-535a-48ba-9c91-b427e2149dd6",
   "metadata": {},
   "outputs": [
    {
     "name": "stdout",
     "output_type": "stream",
     "text": [
      "1\n",
      "2\n",
      "3\n",
      "4\n",
      "name: John\n",
      "age: 25\n",
      "city: New York\n"
     ]
    }
   ],
   "source": [
    "#5. What is the purpose of the `*args` and `**kwargs` syntax in function parameter lists?\n",
    "\n",
    "'''In Python, *args and **kwargs are special syntax used in function parameter lists to allow the function to accept a variable number of arguments.\n",
    "\n",
    "*args (Arbitrary Arguments):\n",
    "\n",
    "The *args syntax allows a function to accept any number of positional arguments.\n",
    "When *args is used in a function definition, it collects any extra positional arguments passed to the function into a tuple.'''\n",
    "\n",
    "def example_function(*args):\n",
    "    for arg in args:\n",
    "        print(arg)\n",
    "\n",
    "example_function(1, 2, 3, 4)\n",
    "\n",
    "'''**kwargs (Arbitrary Keyword Arguments):\n",
    "\n",
    "The **kwargs syntax allows a function to accept any number of keyword arguments.\n",
    "When **kwargs is used in a function definition, it collects any extra keyword arguments passed to the function into a dictionary.'''\n",
    "\n",
    "def example_function(**kwargs):\n",
    "    for key, value in kwargs.items():\n",
    "        print(f\"{key}: {value}\")\n",
    "\n",
    "example_function(name='John', age=25, city='New York')\n"
   ]
  },
  {
   "cell_type": "markdown",
   "id": "7aee58d9-9244-41fe-877c-e1d95b86aab7",
   "metadata": {},
   "source": [
    "Return Values and Scoping:"
   ]
  },
  {
   "cell_type": "code",
   "execution_count": 2,
   "id": "9508da49-7c8b-4be2-84e8-1999f6d6f7c8",
   "metadata": {},
   "outputs": [
    {
     "name": "stdout",
     "output_type": "stream",
     "text": [
      "7\n",
      "Quotient: 3, Remainder: 1\n"
     ]
    }
   ],
   "source": [
    "#1. Describe the role of the `return` statement in Python functions and provide examples.\n",
    "\n",
    "'''In Python, the return statement is used in a function to indicate the value(s) that the function should output. When a return statement is encountered, the function execution is terminated, and the specified value is sent back to the caller. If a function does not have a return statement or if it has a return statement without a value, the function returns None by default.\n",
    "\n",
    "Here are some key points regarding the return statement:'''\n",
    "\n",
    "def add_numbers(a, b):\n",
    "    return a + b\n",
    "\n",
    "result = add_numbers(3, 4)\n",
    "print(result)  # Output: 7\n",
    "\n",
    "def divide_and_remainder(x, y):\n",
    "    quotient = x // y\n",
    "    remainder = x % y\n",
    "    return quotient, remainder\n",
    "\n",
    "q, r = divide_and_remainder(10, 3)\n",
    "print(f\"Quotient: {q}, Remainder: {r}\")  # Output: Quotient: 3, Remainder: 1\n",
    "\n"
   ]
  },
  {
   "cell_type": "code",
   "execution_count": 3,
   "id": "92111e8f-fb36-425f-9181-629c18011231",
   "metadata": {},
   "outputs": [
    {
     "name": "stdout",
     "output_type": "stream",
     "text": [
      "Inside the function: 10\n",
      "Inside the function: 20\n",
      "Outside the function: 20\n"
     ]
    }
   ],
   "source": [
    "#2.Explain the concept of variable scope in Python, including local and global variables.\n",
    "\n",
    "def example_function():\n",
    "    # 'x' is a local variable\n",
    "    x = 10\n",
    "    print(\"Inside the function:\", x)\n",
    "\n",
    "example_function()\n",
    "# Uncommenting the line below would result in an error, as 'x' is not defined here.\n",
    "# print(\"Outside the function:\", x)\n",
    "\n",
    "# 'y' is a global variable\n",
    "y = 20\n",
    "\n",
    "def another_function():\n",
    "    print(\"Inside the function:\", y)\n",
    "\n",
    "another_function()\n",
    "print(\"Outside the function:\", y)\n"
   ]
  },
  {
   "cell_type": "code",
   "execution_count": 4,
   "id": "310f59bb-5aab-4ae1-a961-040dc0ca0c25",
   "metadata": {},
   "outputs": [
    {
     "name": "stdout",
     "output_type": "stream",
     "text": [
      "Initial global_variable: 10\n",
      "Inside the function - Modified global_variable: 15\n",
      "Outside the function - After modification: 15\n",
      "Inside another function - Global variable: 15\n"
     ]
    }
   ],
   "source": [
    "#3. Write a Python program that demonstrates the use of global variables within functions.\n",
    "\n",
    "# Global variable\n",
    "global_variable = 10\n",
    "\n",
    "def modify_global():\n",
    "    # Accessing the global variable within the function\n",
    "    global global_variable\n",
    "    global_variable += 5\n",
    "    print(\"Inside the function - Modified global_variable:\", global_variable)\n",
    "\n",
    "def access_global():\n",
    "    # Accessing the global variable from another function\n",
    "    print(\"Inside another function - Global variable:\", global_variable)\n",
    "\n",
    "# Display the initial value of the global variable\n",
    "print(\"Initial global_variable:\", global_variable)\n",
    "\n",
    "# Call the modify_global function to modify the global variable\n",
    "modify_global()\n",
    "\n",
    "# Display the modified value of the global variable\n",
    "print(\"Outside the function - After modification:\", global_variable)\n",
    "\n",
    "# Call another function that accesses the global variable\n",
    "access_global()\n"
   ]
  },
  {
   "cell_type": "code",
   "execution_count": 13,
   "id": "a920df1c-3685-4b2e-afa0-690a39fbb2a4",
   "metadata": {},
   "outputs": [
    {
     "data": {
      "text/plain": [
       "720"
      ]
     },
     "execution_count": 13,
     "metadata": {},
     "output_type": "execute_result"
    }
   ],
   "source": [
    "#4. Create a Python function that calculates the factorial of a number and returns it\n",
    "\n",
    "fact=1\n",
    "def factorial(n):\n",
    "    if n==1:\n",
    "        return 1\n",
    "    else:\n",
    "        return n * factorial(n-1)\n",
    "    \n",
    "factorial(6)\n",
    "    "
   ]
  },
  {
   "cell_type": "code",
   "execution_count": 14,
   "id": "c585b031-f980-42ae-b2a7-7d4f8e246cd8",
   "metadata": {},
   "outputs": [
    {
     "name": "stdout",
     "output_type": "stream",
     "text": [
      "Initial External Variable: 42\n",
      "Inside the function - Modified External Variable: 52\n",
      "Outside the function - After modification: 52\n"
     ]
    }
   ],
   "source": [
    "#5. How can you access variables defined outside a function from within the function?\n",
    "\n",
    "# Variable defined outside the function\n",
    "external_variable = 42\n",
    "\n",
    "def modify_external_variable():\n",
    "    # Using the 'global' keyword to modify the global variable\n",
    "    global external_variable\n",
    "    external_variable += 10\n",
    "    print(\"Inside the function - Modified External Variable:\", external_variable)\n",
    "\n",
    "# Display the initial value of the variable\n",
    "print(\"Initial External Variable:\", external_variable)\n",
    "\n",
    "# Call the function to modify the variable\n",
    "modify_external_variable()\n",
    "\n",
    "# Display the modified value of the variable\n",
    "print(\"Outside the function - After modification:\", external_variable)\n"
   ]
  },
  {
   "cell_type": "markdown",
   "id": "dd6cb51e-5f57-42d5-96fd-8ceb2b652632",
   "metadata": {},
   "source": [
    "Lambda Functions and Higher-Order Functions:"
   ]
  },
  {
   "cell_type": "code",
   "execution_count": 15,
   "id": "762329f0-7bd0-46a6-93ac-5a15ac384cec",
   "metadata": {},
   "outputs": [
    {
     "name": "stdout",
     "output_type": "stream",
     "text": [
      "7\n",
      "7\n"
     ]
    }
   ],
   "source": [
    "#1.What are lambda functions in Python, and when are they typically used?\n",
    "\n",
    "# Regular function definition\n",
    "def add(x, y):\n",
    "    return x + y\n",
    "\n",
    "# Equivalent lambda function\n",
    "add_lambda = lambda x, y: x + y\n",
    "\n",
    "# Using both functions\n",
    "result1 = add(3, 4)\n",
    "result2 = add_lambda(3, 4)\n",
    "\n",
    "print(result1)  # Output: 7\n",
    "print(result2)  # Output: 7\n"
   ]
  },
  {
   "cell_type": "code",
   "execution_count": 16,
   "id": "5355d207-ce58-4f5a-b072-9cc824aad2db",
   "metadata": {},
   "outputs": [
    {
     "name": "stdout",
     "output_type": "stream",
     "text": [
      "Sorted Students: [('Bob', 20), ('David', 22), ('Alice', 25), ('Charlie', 30)]\n"
     ]
    }
   ],
   "source": [
    "#2.Write a Python program that uses lambda functions to sort a list of tuples based on the second\n",
    "#element\n",
    "\n",
    "# List of tuples\n",
    "students = [('Alice', 25), ('Bob', 20), ('Charlie', 30), ('David', 22)]\n",
    "\n",
    "# Sorting the list based on the second element (age)\n",
    "sorted_students = sorted(students, key=lambda x: x[1])\n",
    "\n",
    "# Displaying the sorted list\n",
    "print(\"Sorted Students:\", sorted_students)\n"
   ]
  },
  {
   "cell_type": "code",
   "execution_count": 17,
   "id": "94ee2960-a882-4674-aa1d-cc6bb6e3e6ed",
   "metadata": {},
   "outputs": [
    {
     "name": "stdout",
     "output_type": "stream",
     "text": [
      "Square: 16\n",
      "Cube: 27\n"
     ]
    }
   ],
   "source": [
    "#3. Explain the concept of higher-order functions in Python, and provide an example.\n",
    "\n",
    "# Example of a higher-order function\n",
    "\n",
    "# Function to square a number\n",
    "def square(x):\n",
    "    return x ** 2\n",
    "\n",
    "# Function to cube a number\n",
    "def cube(x):\n",
    "    return x ** 3\n",
    "\n",
    "# Higher-order function that takes a function as an argument\n",
    "def apply_operation(func, x):\n",
    "    return func(x)\n",
    "\n",
    "# Using the higher-order function with different operations\n",
    "result_square = apply_operation(square, 4)\n",
    "result_cube = apply_operation(cube, 3)\n",
    "\n",
    "# Displaying the results\n",
    "print(\"Square:\", result_square)  # Output: Square: 16\n",
    "print(\"Cube:\", result_cube)      # Output: Cube: 27\n"
   ]
  },
  {
   "cell_type": "code",
   "execution_count": 18,
   "id": "63b55141-b209-4884-882b-d74b10e3bfd4",
   "metadata": {},
   "outputs": [
    {
     "name": "stdout",
     "output_type": "stream",
     "text": [
      "Original List: [1, 2, 3, 4, 5]\n",
      "After Squaring: [1, 4, 9, 16, 25]\n"
     ]
    }
   ],
   "source": [
    "#4. Create a Python function that takes a list of numbers and a function as arguments, applying the\n",
    "#function to each element in the list.\n",
    "\n",
    "def apply_function_to_list(numbers, func):\n",
    "    \"\"\"\n",
    "    Apply the given function to each element in the list.\n",
    "\n",
    "    Parameters:\n",
    "    - numbers (list): List of numbers\n",
    "    - func (function): Function to apply to each element\n",
    "\n",
    "    Returns:\n",
    "    - list: List of results after applying the function to each element\n",
    "    \"\"\"\n",
    "    result = [func(num) for num in numbers]\n",
    "    return result\n",
    "\n",
    "# Example usage:\n",
    "\n",
    "# Define a list of numbers\n",
    "numbers_list = [1, 2, 3, 4, 5]\n",
    "\n",
    "# Define a function to square a number\n",
    "def square(x):\n",
    "    return x ** 2\n",
    "\n",
    "# Apply the square function to each element in the list\n",
    "result_square = apply_function_to_list(numbers_list, square)\n",
    "\n",
    "# Display the result\n",
    "print(\"Original List:\", numbers_list)\n",
    "print(\"After Squaring:\", result_square)\n"
   ]
  },
  {
   "cell_type": "markdown",
   "id": "03dbaa5e-0c83-4b60-a8d4-15db7f368e5d",
   "metadata": {},
   "source": [
    "Built-in Functions:"
   ]
  },
  {
   "cell_type": "code",
   "execution_count": 19,
   "id": "938f7912-a3da-4ce7-a821-03132ecb84be",
   "metadata": {},
   "outputs": [
    {
     "name": "stdout",
     "output_type": "stream",
     "text": [
      "5\n",
      "15\n",
      "2\n"
     ]
    }
   ],
   "source": [
    "#1. Describe the role of built-in functions like `len()`, `max()`, and `min()` in Python.\n",
    "\n",
    "my_list = [1, 2, 3, 4, 5]\n",
    "length_of_list = len(my_list)\n",
    "print(length_of_list)  # Output: 5\n",
    "\n",
    "numbers = [10, 5, 8, 15, 2]\n",
    "maximum_number = max(numbers)\n",
    "print(maximum_number)  # Output: 15\n",
    "\n",
    "numbers = [10, 5, 8, 15, 2]\n",
    "minimum_number = min(numbers)\n",
    "print(minimum_number)  # Output: 2\n",
    "\n"
   ]
  },
  {
   "cell_type": "code",
   "execution_count": 20,
   "id": "ee0a36e8-f386-40ed-bf7e-fdf76b62d55e",
   "metadata": {},
   "outputs": [
    {
     "data": {
      "text/plain": [
       "[1, 4, 9, 16, 25]"
      ]
     },
     "execution_count": 20,
     "metadata": {},
     "output_type": "execute_result"
    }
   ],
   "source": [
    "#2. Write a Python program that uses the `map()` function to apply a function to each element of a\n",
    "#list.\n",
    "\n",
    "l=[1,2,3,4,5]\n",
    "\n",
    "list(map(lambda a: a*a,l))"
   ]
  },
  {
   "cell_type": "code",
   "execution_count": 21,
   "id": "7e2394d6-86f7-4964-b06c-6d60f6fefcf4",
   "metadata": {},
   "outputs": [
    {
     "name": "stdout",
     "output_type": "stream",
     "text": [
      "[2, 4, 6, 8, 10]\n"
     ]
    }
   ],
   "source": [
    "#3. How does the `filter()` function work in Python, and when would you use it?\n",
    "\n",
    "# Example 1: Using filter() to keep even numbers\n",
    "numbers = [1, 2, 3, 4, 5, 6, 7, 8, 9, 10]\n",
    "\n",
    "# Define a filter function to check if a number is even\n",
    "def is_even(x):\n",
    "    return x % 2 == 0\n",
    "\n",
    "# Use filter() to keep only even numbers\n",
    "filtered_numbers = filter(is_even, numbers)\n",
    "\n",
    "# Convert the result to a list\n",
    "result_list = list(filtered_numbers)\n",
    "\n",
    "print(result_list)  # Output: [2, 4, 6, 8, 10]\n"
   ]
  },
  {
   "cell_type": "code",
   "execution_count": 31,
   "id": "f80ade77-08f4-446a-9672-a805f7a3e053",
   "metadata": {},
   "outputs": [
    {
     "name": "stdout",
     "output_type": "stream",
     "text": [
      "Original List: [2, 3, 4, 5]\n",
      "Product of all elements: 120\n"
     ]
    }
   ],
   "source": [
    "#4. Create a Python program that uses the `reduce()` function to find the product of all elements in\n",
    "#a list.\n",
    "from functools import reduce\n",
    "\n",
    "def multiply(x, y):\n",
    "    return x * y\n",
    "\n",
    "# Example list of numbers\n",
    "numbers = [2, 3, 4, 5]\n",
    "\n",
    "# Use reduce() to find the product of all elements in the list\n",
    "product = reduce(multiply, numbers)\n",
    "\n",
    "print(\"Original List:\", numbers)\n",
    "print(\"Product of all elements:\", product)\n"
   ]
  },
  {
   "cell_type": "markdown",
   "id": "69391840-475d-4bd8-8486-af3e1d4c9e63",
   "metadata": {},
   "source": [
    "Function Documentation and Best Practices:"
   ]
  },
  {
   "cell_type": "code",
   "execution_count": 35,
   "id": "8bc5d01b-998d-4df3-8069-1c33239f7179",
   "metadata": {},
   "outputs": [],
   "source": [
    "#1. Explain the purpose of docstrings in Python functions and how to write them.\n",
    "\n",
    "'''In Python, a docstring (documentation string) is a special string used to provide documentation for functions, modules, classes, or methods. Docstrings serve the purpose of documenting the purpose, usage, and behavior of the code they describe. They are intended to help both developers and users understand how to use and interact with the code.\n",
    "\n",
    "A docstring is placed immediately after the header of a function, method, class, or module and is enclosed in triple double-quotes (\"\"\").\n",
    "\n",
    "Here's an example of a simple function with a docstring:'''\n",
    "def add_numbers(a, b):\n",
    "    \"\"\"\n",
    "    Adds two numbers together.\n",
    "\n",
    "    Parameters:\n",
    "    - a (int): The first number.\n",
    "    - b (int): The second number.\n",
    "\n",
    "    Returns:\n",
    "    int: The sum of the two numbers.\n",
    "    \"\"\"\n",
    "    return a + b\n"
   ]
  },
  {
   "cell_type": "code",
   "execution_count": null,
   "id": "3d1489ac-77ba-46ae-bd24-cda95d3efaa6",
   "metadata": {},
   "outputs": [],
   "source": [
    "#2.Describe some best practices for naming functions and variables in Python, including naming\n",
    "#conventions and guidelines.\n",
    "\n",
    "'''\n",
    "Naming functions and variables is an important aspect of writing clean, readable, and maintainable Python code. Adhering to naming conventions and following best practices makes your code more understandable and reduces the likelihood of naming conflicts. Here are some best practices for naming functions and variables in Python:\n",
    "\n",
    "General Guidelines:\n",
    "Descriptive and Clear:\n",
    "\n",
    "Choose names that clearly and concisely convey the purpose or functionality of the variable or function. A reader should be able to understand the role of the variable or function just by looking at its name.\n",
    "Follow PEP 8:\n",
    "\n",
    "Adhere to the naming conventions outlined in PEP 8, the official style guide for Python code. PEP 8 provides consistent naming conventions that enhance code readability.\n",
    "Naming Conventions:\n",
    "Use lowercase with underscores for variables and functions:\n",
    "\n",
    "Variables and function names should be in lowercase with underscores separating words. This is known as snake_case.\n",
    "'''"
   ]
  }
 ],
 "metadata": {
  "kernelspec": {
   "display_name": "Python 3 (ipykernel)",
   "language": "python",
   "name": "python3"
  },
  "language_info": {
   "codemirror_mode": {
    "name": "ipython",
    "version": 3
   },
   "file_extension": ".py",
   "mimetype": "text/x-python",
   "name": "python",
   "nbconvert_exporter": "python",
   "pygments_lexer": "ipython3",
   "version": "3.10.8"
  }
 },
 "nbformat": 4,
 "nbformat_minor": 5
}
